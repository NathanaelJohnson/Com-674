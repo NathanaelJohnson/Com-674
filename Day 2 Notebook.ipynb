{
 "cells": [
  {
   "cell_type": "code",
   "execution_count": 1,
   "metadata": {},
   "outputs": [],
   "source": [
    "#Chapter 1\n",
    "#1 c\n",
    "#6 b\n",
    "#7 b\n"
   ]
  },
  {
   "cell_type": "code",
   "execution_count": 4,
   "metadata": {},
   "outputs": [
    {
     "name": "stdout",
     "output_type": "stream",
     "text": [
      "Enter your name: Chandler\n"
     ]
    },
    {
     "data": {
      "text/plain": [
       "'Hello Chandler'"
      ]
     },
     "execution_count": 4,
     "metadata": {},
     "output_type": "execute_result"
    }
   ],
   "source": [
    "# Exercise 2.2\n",
    "name = input(\"Enter your name: \")\n",
    "\"Hello \" + name"
   ]
  },
  {
   "cell_type": "code",
   "execution_count": 9,
   "metadata": {},
   "outputs": [
    {
     "name": "stdout",
     "output_type": "stream",
     "text": [
      "Enter the number of hours: 35\n",
      "Enter the pay rate: 2\n",
      "Total Pay: 70\n"
     ]
    }
   ],
   "source": [
    "# Exercise 2.3\n",
    "hours = input(\"Enter the number of hours: \")\n",
    "rate = input(\"Enter the pay rate: \")\n",
    "print (\"Total Pay: \" + str(int(hours) * int(rate)))"
   ]
  },
  {
   "cell_type": "code",
   "execution_count": 15,
   "metadata": {
    "scrolled": true
   },
   "outputs": [
    {
     "name": "stdout",
     "output_type": "stream",
     "text": [
      "<class 'int'> : 8\n",
      "<class 'float'> : 8.5\n",
      "<class 'float'> : 4.0\n",
      "<class 'int'> : 11\n"
     ]
    }
   ],
   "source": [
    "# Exercise 2.4\n",
    "width = 17\n",
    "height = 12.0\n",
    "print(str(type(width//2)) + \" : \" + str(width//2))\n",
    "print(str(type(width/2.0)) + ' : ' + str(width/2.0))\n",
    "print(str(type(height/3)) + ' : ' + str(height/3))\n",
    "print(str(type(1 + 2 * 5)) + ' : ' + str(1 + 2 * 5))\n"
   ]
  },
  {
   "cell_type": "code",
   "execution_count": 42,
   "metadata": {},
   "outputs": [
    {
     "name": "stdout",
     "output_type": "stream",
     "text": [
      "Enter the temperature in Celsius: 23rd\n",
      "Please enter a number.\n"
     ]
    }
   ],
   "source": [
    "# Exercise 2.5\n",
    "celsius = input('Enter the temperature in Celsius: ')\n",
    "try:\n",
    "    fahrenheit = float(celsius) * 9 / 5 + 32\n",
    "    print(\"That temperature, converted to Fahrenheit, is: \" + str(fahrenheit))\n",
    "except:\n",
    "    print(\"Please enter a number.\")"
   ]
  },
  {
   "cell_type": "markdown",
   "metadata": {},
   "source": [
    "# Chapter 3"
   ]
  },
  {
   "cell_type": "code",
   "execution_count": 63,
   "metadata": {},
   "outputs": [
    {
     "name": "stdout",
     "output_type": "stream",
     "text": [
      "Enter the number of hours: 100\n",
      "Enter the pay rate: s\n",
      "please enter numbers for both hours and rate.\n"
     ]
    }
   ],
   "source": [
    "# Excercise 3.1\n",
    "hours = input(\"Enter the number of hours: \")\n",
    "rate = input(\"Enter the pay rate: \")\n",
    "try:\n",
    "    hours = float(hours)\n",
    "    rate = float(rate)\n",
    "    if float(hours) > 40:\n",
    "        regular_pay = 40 * rate\n",
    "        overtime_pay = (hours - 40) * (rate * 1.5)\n",
    "        total_pay = regular_pay + overtime_pay\n",
    "        print(\"The total pay is $ \" + str(total_pay) + \", with $\" + str(overtime_pay) + \" of that being overtime pay.\")\n",
    "    else:\n",
    "        total_pay = hours * rate\n",
    "        print(\"The total pay is $ \" + str(total_pay))\n",
    "except:\n",
    "    print(\"please enter numbers for both hours and rate.\")"
   ]
  },
  {
   "cell_type": "code",
   "execution_count": 64,
   "metadata": {},
   "outputs": [
    {
     "name": "stdout",
     "output_type": "stream",
     "text": [
      "Enter the number of hours: 100\n",
      "Enter the pay rate: 2\n",
      "The total pay is $ 260.0, with $180.0 of that being overtime pay.\n"
     ]
    }
   ],
   "source": [
    "# Excercise 3.2\n",
    "hours = input(\"Enter the number of hours: \")\n",
    "rate = input(\"Enter the pay rate: \")\n",
    "try:\n",
    "    hours = float(hours)\n",
    "    rate = float(rate)\n",
    "    if float(hours) > 40:\n",
    "        regular_pay = 40 * rate\n",
    "        overtime_pay = (hours - 40) * (rate * 1.5)\n",
    "        total_pay = regular_pay + overtime_pay\n",
    "        print(\"The total pay is $ \" + str(total_pay) + \", with $\" + str(overtime_pay) + \" of that being overtime pay.\")\n",
    "    else:\n",
    "        total_pay = hours * rate\n",
    "        print(\"The total pay is $ \" + str(total_pay))\n",
    "except:\n",
    "    print(\"please enter numbers for both hours and rate.\")"
   ]
  },
  {
   "cell_type": "code",
   "execution_count": 73,
   "metadata": {},
   "outputs": [
    {
     "name": "stdout",
     "output_type": "stream",
     "text": [
      "Please enter a number between 0 and 1: df\n",
      "Make sure you enter a number between 0 and 1 (such as .1 or .7)\n"
     ]
    }
   ],
   "source": [
    "# Exercise 3.3\n",
    "number = input(\"Please enter a number between 0 and 1: \")\n",
    "try:\n",
    "    number = float(number)\n",
    "    if number >= 0 and number <= 1:\n",
    "        if number >= .9:\n",
    "            grade = \"A\"\n",
    "        elif number >= .8:\n",
    "            grade = \"B\"\n",
    "        elif number >= .7:\n",
    "            grade = \"C\"\n",
    "        elif number >= .6:\n",
    "            grade = \"D\"\n",
    "        else:\n",
    "            grade = \"F\"\n",
    "        print (\"Grade is \" + str(grade))\n",
    "    else:\n",
    "        print(\"Make sure you enter a number between 0 and 1 (such as .1 or .7)\")\n",
    "except:\n",
    "    print(\"Make sure you enter a number between 0 and 1 (such as .1 or .7)\")"
   ]
  },
  {
   "cell_type": "markdown",
   "metadata": {},
   "source": [
    "## Chapter 4"
   ]
  },
  {
   "cell_type": "code",
   "execution_count": 74,
   "metadata": {},
   "outputs": [],
   "source": [
    "#Exercise 4.5 d"
   ]
  },
  {
   "cell_type": "code",
   "execution_count": 89,
   "metadata": {},
   "outputs": [
    {
     "name": "stdout",
     "output_type": "stream",
     "text": [
      "The total pay is $ 50000000.0, with $30000000.0 of that being overtime pay.\n"
     ]
    }
   ],
   "source": [
    "#Exercise 4.6\n",
    "def compute_pay(hours, rate):\n",
    "    try:\n",
    "        hours = float(hours)\n",
    "        rate = float(rate)\n",
    "        if float(hours) > 40:\n",
    "            regular_pay = 40 * rate\n",
    "            overtime_pay = (hours - 40) * (rate * 1.5)\n",
    "            total_pay = regular_pay + overtime_pay\n",
    "            print(\"The total pay is $ \" + str(total_pay) + \", with $\" + str(overtime_pay) + \" of that being overtime pay.\")\n",
    "        else:\n",
    "            total_pay = hours * rate\n",
    "            print(\"The total pay is $ \" + str(total_pay))\n",
    "    except:\n",
    "        print(\"please enter numbers for both hours and rate.\")\n",
    "\n",
    "compute_pay(80, 500000)"
   ]
  },
  {
   "cell_type": "code",
   "execution_count": 1,
   "metadata": {},
   "outputs": [
    {
     "name": "stdout",
     "output_type": "stream",
     "text": [
      "Grade is A\n"
     ]
    }
   ],
   "source": [
    "def compute_grade(number):\n",
    "    try:\n",
    "        number = float(number)\n",
    "        if number >= 0 and number <= 1:\n",
    "            if number >= .9:\n",
    "                grade = \"A\"\n",
    "            elif number >= .8:\n",
    "                grade = \"B\"\n",
    "            elif number >= .7:\n",
    "                grade = \"C\"\n",
    "            elif number >= .6:\n",
    "                grade = \"D\"\n",
    "            else:\n",
    "                grade = \"F\"\n",
    "            print (\"Grade is \" + str(grade))\n",
    "        else:\n",
    "            print(\"Make sure you enter a number between 0 and 1 (such as .1 or .7)\")\n",
    "    except:\n",
    "        print(\"Make sure you enter a number between 0 and 1 (such as .1 or .7)\")\n",
    "        \n",
    "compute_grade(.99)\n"
   ]
  }
 ],
 "metadata": {
  "kernelspec": {
   "display_name": "Python 3",
   "language": "python",
   "name": "python3"
  },
  "language_info": {
   "codemirror_mode": {
    "name": "ipython",
    "version": 3
   },
   "file_extension": ".py",
   "mimetype": "text/x-python",
   "name": "python",
   "nbconvert_exporter": "python",
   "pygments_lexer": "ipython3",
   "version": "3.7.4"
  }
 },
 "nbformat": 4,
 "nbformat_minor": 2
}
