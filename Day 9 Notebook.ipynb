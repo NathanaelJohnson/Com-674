{
 "cells": [
  {
   "cell_type": "markdown",
   "metadata": {},
   "source": [
    "## Identify a question that Twitter data (or data gathered from another API) could help you to answer. Figure out a query that would gather that data.\n",
    "\n",
    "Explain the question you would like to answer, and why it is interesting.\n",
    "\n",
    "Describe the data that you would like to gather, the analysis on the data that you would like to perform, and why it would answer the question\n",
    "\n"
   ]
  },
  {
   "cell_type": "markdown",
   "metadata": {},
   "source": [
    "#### Is there a relationship between the number of followers a person has or the number of people they follow and the amount of tweets they put out per day?\n",
    "\n",
    "#### For this, I will gather follower data for a set of people and the number of tweets they have posted. Then I will look for correlation between these to see if there is a relationship."
   ]
  },
  {
   "cell_type": "markdown",
   "metadata": {},
   "source": [
    "## Gathering Data\n",
    "\n",
    "Save the raw data that Twitter returns in a .json file\n",
    "\n",
    "Write code that filters the JSON data into what you are interested in and saves it as a CSV file.\n"
   ]
  },
  {
   "cell_type": "code",
   "execution_count": 2,
   "metadata": {},
   "outputs": [],
   "source": [
    "import tweepy\n",
    "from IPython.display import display, Image  # This line lets you display images. We'll use that in a bit.\n",
    "import requests\n",
    "import json\n",
    "from twitter_authentication import CONSUMER_KEY, CONSUMER_SECRET, ACCESS_TOKEN, ACCESS_TOKEN_SECRET\n",
    "\n",
    "auth = tweepy.OAuthHandler(CONSUMER_KEY, CONSUMER_SECRET)\n",
    "auth.set_access_token(ACCESS_TOKEN, ACCESS_TOKEN_SECRET)\n",
    "\n",
    "api = tweepy.API(auth, wait_on_rate_limit=True)"
   ]
  },
  {
   "cell_type": "code",
   "execution_count": 3,
   "metadata": {},
   "outputs": [],
   "source": [
    "tweet_list = []\n",
    "the_tweets = tweepy.Cursor(api.search, 'geocode:39.83,-98.58,10000km').items(1)\n",
    "for tweet in the_tweets:\n",
    "    if tweet.user.screen_name not in tweet_list:\n",
    "        tweet_list.append(tweet._json)\n",
    "with open('my twitter data', 'w') as file:\n",
    "    json.dump(tweet_list, file)\n",
    "\n",
    "    "
   ]
  },
  {
   "cell_type": "code",
   "execution_count": null,
   "metadata": {},
   "outputs": [],
   "source": [
    "with open('my twitter data', 'r') as file:\n",
    "    tweets = json.load(file)\n",
    "    \n"
   ]
  },
  {
   "cell_type": "code",
   "execution_count": null,
   "metadata": {},
   "outputs": [],
   "source": [
    "import csv \n",
    "with open('twitter data.csv', 'w') as csvfile:\n",
    "    file = csv.writer(csvfile)\n",
    "    file.writerow(['followers_count',\n",
    "                   'friends_count',\n",
    "              'statuses_count'\n",
    "            ])\n",
    "    for tweet in tweets:\n",
    "        file.writerow([tweet['user']['followers_count'],\n",
    "                    tweet['user']['friends_count'],\n",
    "                    tweet['user']['statuses_count']\n",
    "                   ])\n"
   ]
  },
  {
   "cell_type": "markdown",
   "metadata": {},
   "source": [
    "\n",
    "## Analysis\n",
    "\n",
    "Come up with a visualization and/or statistical test that would help to answer your question.\n",
    "\n",
    "Create that visualization or run that statistical test."
   ]
  },
  {
   "cell_type": "code",
   "execution_count": null,
   "metadata": {},
   "outputs": [],
   "source": [
    "import pandas as pd\n",
    "import seaborn as sns\n",
    "from scipy import stats\n",
    "import numpy as np\n",
    "df = pd.read_csv('./twitter data.csv')\n",
    "df2 = pd.read_csv('./twitter data outliers removed.csv')"
   ]
  },
  {
   "cell_type": "code",
   "execution_count": null,
   "metadata": {},
   "outputs": [],
   "source": [
    "\n",
    "sns.lmplot(x = 'followers_count',\n",
    "           y = 'statuses_count',\n",
    "           height = 5, aspect = 1.25,\n",
    "           data=df)\n",
    "sns.lmplot(x = 'friends_count',\n",
    "           y = 'statuses_count',\n",
    "           height = 5, aspect = 1.25,\n",
    "           data=df)\n",
    "sns.lmplot(x = 'friends_count',\n",
    "           y = 'followers_count',\n",
    "           height = 5, aspect = 1.25,\n",
    "           data=df)"
   ]
  },
  {
   "cell_type": "code",
   "execution_count": null,
   "metadata": {},
   "outputs": [],
   "source": [
    "foscorr, fosp = stats.pearsonr(df['followers_count'], df['statuses_count'])\n",
    "frscorr, frsp = stats.pearsonr(df['friends_count'], df['statuses_count'])\n",
    "fofrcorr, fofrp = stats.pearsonr(df['followers_count'], df['friends_count'])\n",
    "foscorr2, fosp2 = stats.pearsonr(df2['followers_count'], df2['statuses_count'])\n",
    "frscorr2, frsp2 = stats.pearsonr(df2['friends_count'], df2['statuses_count'])\n",
    "fofrcorr2, fofrp2 = stats.pearsonr(df2['followers_count'], df2['friends_count'])\n",
    "print(\"There is a \", foscorr, \"correlation between the number of followers and the number of statuses, p = \", fosp)\n",
    "print(\"There is a \", frscorr, \"correlation between the number of friends and the number of statuses, p = \", frsp)\n",
    "print(\"There is a \", fofrcorr, \"correlation between the number of followers and the number of friends, p = \", fofrp)"
   ]
  },
  {
   "cell_type": "code",
   "execution_count": null,
   "metadata": {},
   "outputs": [],
   "source": [
    "sns.lmplot(x = 'followers_count',\n",
    "           y = 'statuses_count',\n",
    "           height = 5, aspect = 1.25,\n",
    "           data=df2)\n",
    "sns.lmplot(x = 'friends_count',\n",
    "           y = 'statuses_count',\n",
    "           height = 5, aspect = 1.25,\n",
    "           data=df2)\n",
    "sns.lmplot(x = 'friends_count',\n",
    "           y = 'followers_count',\n",
    "           height = 5, aspect = 1.25,\n",
    "           data=df2)\n",
    "\n",
    "foscorr2, fosp2 = stats.pearsonr(df2['followers_count'], df2['statuses_count'])\n",
    "frscorr2, frsp2 = stats.pearsonr(df2['friends_count'], df2['statuses_count'])\n",
    "fofrcorr2, fofrp2 = stats.pearsonr(df2['followers_count'], df2['friends_count'])\n",
    "print(\"If we remove three major outliers, there is now a \", foscorr2, \"\"\"correlation between the number of followers \n",
    "and the number of statuses, p = \"\"\", fosp, \", a\" , frscorr, \"\"\"correlation between the number of friends \n",
    "and the number of statuses, p = \"\"\", frsp, \", and a \", fofrcorr, \"\"\"correlation between the number of \n",
    "followers and the number of friends, p = \"\"\", fofrp)"
   ]
  },
  {
   "cell_type": "code",
   "execution_count": null,
   "metadata": {},
   "outputs": [],
   "source": []
  },
  {
   "cell_type": "code",
   "execution_count": null,
   "metadata": {},
   "outputs": [],
   "source": []
  }
 ],
 "metadata": {
  "kernelspec": {
   "display_name": "Python 3",
   "language": "python",
   "name": "python3"
  },
  "language_info": {
   "codemirror_mode": {
    "name": "ipython",
    "version": 3
   },
   "file_extension": ".py",
   "mimetype": "text/x-python",
   "name": "python",
   "nbconvert_exporter": "python",
   "pygments_lexer": "ipython3",
   "version": "3.7.4"
  }
 },
 "nbformat": 4,
 "nbformat_minor": 2
}
