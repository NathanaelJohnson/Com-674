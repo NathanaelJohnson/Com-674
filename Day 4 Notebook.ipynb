{
 "cells": [
  {
   "cell_type": "code",
   "execution_count": null,
   "metadata": {},
   "outputs": [],
   "source": [
    "file = input('enter a file name: ')\n",
    "file_handle = open(file)\n",
    "for line in file_handle:\n",
    "    line = line.upper()\n",
    "    print(line)\n",
    "    \n",
    "    \n",
    "    "
   ]
  },
  {
   "cell_type": "code",
   "execution_count": 1,
   "metadata": {},
   "outputs": [
    {
     "name": "stdout",
     "output_type": "stream",
     "text": [
      "enter a file name: ./day4_exercise.txt\n",
      "Total value:  20.269 \n",
      "Average value:  0.751\n"
     ]
    }
   ],
   "source": [
    "#Exercises 8.2 and 8.3\n",
    "try:\n",
    "    file = input('enter a file name: ')\n",
    "    file_handle = open(file)\n",
    "except:\n",
    "    if file == \"na na boo boo\": \n",
    "        print(\"You are not funny. Go back to work.\")\n",
    "    else:\n",
    "        print(\"This file could not be opened. Perhaps it does not exist.\")\n",
    "    \n",
    "spam_list = []\n",
    "count = 0\n",
    "for line in file_handle:\n",
    "    if line.startswith('X-DSPAM-Confidence:'):\n",
    "        spam_list.append(float(line[20:]))\n",
    "        count += 1\n",
    "total_value = sum(spam_list[:])\n",
    "if count > 0:\n",
    "    average_value = total_value / count\n",
    "    average_value = round(average_value, 3)\n",
    "    total_value = round(total_value, 3)\n",
    "    print(\"Total value: \", total_value, \"\\nAverage value: \", average_value)\n",
    "else:\n",
    "    print(\"No data found.\")\n",
    "\n",
    "        \n",
    "    "
   ]
  },
  {
   "cell_type": "code",
   "execution_count": null,
   "metadata": {},
   "outputs": [],
   "source": [
    "#Wordplay challenge 1\n",
    "best_list = []\n",
    "for letter in \"abcdefghijklmnopqrstuvwxyz\":\n",
    "    best_word_count = 0\n",
    "    best_word = None\n",
    "    for word in scrabble.wordlist:\n",
    "        if word.count(letter) > best_word_count:\n",
    "            best_word_count = word.count(letter)\n",
    "            best_word = word\n",
    "    best_list.append(best_word)\n",
    "    best_list.append(best_word_count)\n",
    "print(best_list)\n",
    "            "
   ]
  },
  {
   "cell_type": "code",
   "execution_count": null,
   "metadata": {},
   "outputs": [],
   "source": [
    "#Wordplay challenge 2\n",
    "longest_word = ()\n",
    "for word in scrabble.wordlist:\n",
    "    for letter in \"abcdefghijklmnopqrstuvwxyz\":\n",
    "        if word.count(letter) <= 1:\n",
    "            valid = True\n",
    "            continue\n",
    "        else:\n",
    "            valid = False\n",
    "            break\n",
    "            \n",
    "    if valid and len(word) > len(longest_word):\n",
    "        longest_word = word\n",
    "        \n",
    "print(longest_word)"
   ]
  },
  {
   "cell_type": "code",
   "execution_count": null,
   "metadata": {},
   "outputs": [],
   "source": [
    "#Wordplay challenge 3\n",
    "word_list = []\n",
    "for word in scrabble.wordlist:\n",
    "    doubles = 0\n",
    "    for letter in \"abcdefghijklmnopqrstuvwxyz\":\n",
    "        if letter + letter in word:\n",
    "            doubles += 1\n",
    "    if doubles >= 3:\n",
    "        word_list.append(word)\n",
    "        \n",
    "print(word_list)\n",
    "        \n",
    "        "
   ]
  },
  {
   "cell_type": "code",
   "execution_count": null,
   "metadata": {},
   "outputs": [],
   "source": []
  }
 ],
 "metadata": {
  "kernelspec": {
   "display_name": "Python 3",
   "language": "python",
   "name": "python3"
  },
  "language_info": {
   "codemirror_mode": {
    "name": "ipython",
    "version": 3
   },
   "file_extension": ".py",
   "mimetype": "text/x-python",
   "name": "python",
   "nbconvert_exporter": "python",
   "pygments_lexer": "ipython3",
   "version": "3.7.4"
  }
 },
 "nbformat": 4,
 "nbformat_minor": 2
}
