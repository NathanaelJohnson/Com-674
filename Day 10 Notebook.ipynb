{
 "cells": [
  {
   "cell_type": "markdown",
   "metadata": {},
   "source": [
    "# Introduction to Text Analysis in Python\n",
    "\n",
    "I am not an NLP person and this is outside of my expertise, but I know enough to give a basic introduction to text analysis and text processing tools.\n",
    "\n",
    "For this tutorial + homework, I'm going to use data from Reddit. I'm getting it from PushShift, using the following code. You can run this yoursel to get your own dataset (e.g., from different subreddits, or different dates). I'd recommend, however, just using the dataset that I created. I show how to import it below"
   ]
  },
  {
   "cell_type": "code",
   "execution_count": 1,
   "metadata": {},
   "outputs": [],
   "source": [
    "import requests\n",
    "from datetime import datetime\n",
    "import pprint\n",
    "import time\n",
    "import pandas as pd\n",
    "import seaborn as sns"
   ]
  },
  {
   "cell_type": "code",
   "execution_count": null,
   "metadata": {},
   "outputs": [],
   "source": [
    "## Code used to create the dataset - no need to run this code\n",
    "\n",
    "endpt = 'https://api.pushshift.io/reddit/search/submission'\n",
    "\n",
    "subreddits = ['AskReddit','Coronavirus', 'politics']\n",
    "\n",
    "# Start and end date (pushshift expects these in epoch time)\n",
    "start_date = int(datetime.strptime('2020-03-11', '%Y-%m-%d').timestamp())\n",
    "end_date = int(datetime.strptime('2020-03-25', '%Y-%m-%d').timestamp())\n",
    "\n",
    "\n",
    "def get_posts(subreddit, before = end_date, after = start_date, result = None,  min_comments = 20):\n",
    "    params = {'subreddit': subreddit,\n",
    "              'num_comments': f'>{min_comments}',\n",
    "              'before': before,\n",
    "              'size': 500\n",
    "             }\n",
    "    if result == None:\n",
    "        result = []\n",
    "    r = requests.get(endpt, params=params)\n",
    "    print(r.url)\n",
    "    print(datetime.fromtimestamp(before))\n",
    "    for item in r.json()['data']:\n",
    "        created_time = item['created_utc']\n",
    "        if created_time < after: # If we've reached the earliest we want, then return\n",
    "            print(len(result))\n",
    "            return result\n",
    "        else:\n",
    "            try:\n",
    "                result.append((item['title'],item['selftext'], created_time, subreddit))\n",
    "            except KeyError:\n",
    "                print(item)\n",
    "    time.sleep(.5)\n",
    "    return get_posts(subreddit, before = created_time, result = result)\n",
    "\n",
    "\n",
    "sr_data = []\n",
    "for subreddit in subreddits:\n",
    "    new_data = get_posts(subreddit)\n",
    "    sr_data = sr_data + new_data\n",
    "sr = pd.DataFrame(sr_data, columns = ['title', 'selftext', 'date', 'subreddit'])\n",
    "sr.date = pd.to_datetime(sr.date, unit='s')\n",
    "sr.to_csv('./sr_post_data.csv', index = False)"
   ]
  },
  {
   "cell_type": "code",
   "execution_count": 2,
   "metadata": {},
   "outputs": [],
   "source": [
    "## Code to download and import the file (DO run this code)\n",
    "import matplotlib.pyplot as plt\n",
    "import pandas as pd\n",
    "\n",
    "sr = pd.read_csv('https://github.com/jdfoote/Intro-to-Programming-and-Data-Science/blob/master/resources/data/sr_post_data.csv?raw=true')\n"
   ]
  },
  {
   "cell_type": "code",
   "execution_count": 3,
   "metadata": {},
   "outputs": [],
   "source": [
    "# Change the date to a datetime, and put it in the index\n",
    "sr.index = pd.to_datetime(sr.date)"
   ]
  },
  {
   "cell_type": "code",
   "execution_count": 14,
   "metadata": {},
   "outputs": [
    {
     "data": {
      "text/html": [
       "<div>\n",
       "<style scoped>\n",
       "    .dataframe tbody tr th:only-of-type {\n",
       "        vertical-align: middle;\n",
       "    }\n",
       "\n",
       "    .dataframe tbody tr th {\n",
       "        vertical-align: top;\n",
       "    }\n",
       "\n",
       "    .dataframe thead th {\n",
       "        text-align: right;\n",
       "    }\n",
       "</style>\n",
       "<table border=\"1\" class=\"dataframe\">\n",
       "  <thead>\n",
       "    <tr style=\"text-align: right;\">\n",
       "      <th></th>\n",
       "      <th>title</th>\n",
       "      <th>selftext</th>\n",
       "      <th>date</th>\n",
       "      <th>subreddit</th>\n",
       "      <th>num_posts</th>\n",
       "    </tr>\n",
       "    <tr>\n",
       "      <th>date</th>\n",
       "      <th></th>\n",
       "      <th></th>\n",
       "      <th></th>\n",
       "      <th></th>\n",
       "      <th></th>\n",
       "    </tr>\n",
       "  </thead>\n",
       "  <tbody>\n",
       "    <tr>\n",
       "      <td>2020-03-25 03:58:28</td>\n",
       "      <td>What’s your least favorite color? Why?</td>\n",
       "      <td>NaN</td>\n",
       "      <td>2020-03-25 03:58:28</td>\n",
       "      <td>AskReddit</td>\n",
       "      <td>1</td>\n",
       "    </tr>\n",
       "    <tr>\n",
       "      <td>2020-03-25 03:57:58</td>\n",
       "      <td>What was the reason for the last time you cried?</td>\n",
       "      <td>NaN</td>\n",
       "      <td>2020-03-25 03:57:58</td>\n",
       "      <td>AskReddit</td>\n",
       "      <td>1</td>\n",
       "    </tr>\n",
       "    <tr>\n",
       "      <td>2020-03-25 03:57:17</td>\n",
       "      <td>What are songs that have to be played full bla...</td>\n",
       "      <td>NaN</td>\n",
       "      <td>2020-03-25 03:57:17</td>\n",
       "      <td>AskReddit</td>\n",
       "      <td>1</td>\n",
       "    </tr>\n",
       "    <tr>\n",
       "      <td>2020-03-25 03:55:50</td>\n",
       "      <td>How to get rid of excessive amounts of anger a...</td>\n",
       "      <td>NaN</td>\n",
       "      <td>2020-03-25 03:55:50</td>\n",
       "      <td>AskReddit</td>\n",
       "      <td>1</td>\n",
       "    </tr>\n",
       "    <tr>\n",
       "      <td>2020-03-25 03:51:49</td>\n",
       "      <td>What's your go to fantasy?</td>\n",
       "      <td>NaN</td>\n",
       "      <td>2020-03-25 03:51:49</td>\n",
       "      <td>AskReddit</td>\n",
       "      <td>1</td>\n",
       "    </tr>\n",
       "  </tbody>\n",
       "</table>\n",
       "</div>"
      ],
      "text/plain": [
       "                                                                 title  \\\n",
       "date                                                                     \n",
       "2020-03-25 03:58:28             What’s your least favorite color? Why?   \n",
       "2020-03-25 03:57:58   What was the reason for the last time you cried?   \n",
       "2020-03-25 03:57:17  What are songs that have to be played full bla...   \n",
       "2020-03-25 03:55:50  How to get rid of excessive amounts of anger a...   \n",
       "2020-03-25 03:51:49                         What's your go to fantasy?   \n",
       "\n",
       "                    selftext                 date  subreddit  num_posts  \n",
       "date                                                                     \n",
       "2020-03-25 03:58:28      NaN  2020-03-25 03:58:28  AskReddit          1  \n",
       "2020-03-25 03:57:58      NaN  2020-03-25 03:57:58  AskReddit          1  \n",
       "2020-03-25 03:57:17      NaN  2020-03-25 03:57:17  AskReddit          1  \n",
       "2020-03-25 03:55:50      NaN  2020-03-25 03:55:50  AskReddit          1  \n",
       "2020-03-25 03:51:49      NaN  2020-03-25 03:51:49  AskReddit          1  "
      ]
     },
     "execution_count": 14,
     "metadata": {},
     "output_type": "execute_result"
    }
   ],
   "source": [
    "sr.head()"
   ]
  },
  {
   "cell_type": "markdown",
   "metadata": {},
   "source": [
    "## Summarization\n",
    "\n",
    "There are some simple ways to summarize text data that can be useful, without using any special NLP tools.\n",
    "\n",
    "\n",
    "For example, it can be very interesting to see how the frequency of a term changes over time:"
   ]
  },
  {
   "cell_type": "code",
   "execution_count": 4,
   "metadata": {},
   "outputs": [
    {
     "data": {
      "image/png": "[encoded data removed]",
      "text/plain": [
       "<Figure size 432x288 with 1 Axes>"
      ]
     },
     "metadata": {
      "needs_background": "light"
     },
     "output_type": "display_data"
    }
   ],
   "source": [
    "# This code plots the frequency of \"COVID-19\", \"Coronavirus\", and \"Wuhan\" each day\n",
    "sr['num_posts'] = 1 # As in earlier visualization, just tells us each row represents 1 post\n",
    "\n",
    "for term in [\"COVID-19\", \"Coronavirus\", \"Wuhan\"]:\n",
    "    curr_df = sr.loc[sr.title.str.contains(term) | sr.selftext.str.contains(term)]\n",
    "    posts_per_day = curr_df.resample('D').num_posts.sum()\n",
    "    posts_per_day.plot(label = term)\n",
    "\n",
    "plt.legend()\n",
    "plt.show()"
   ]
  },
  {
   "cell_type": "code",
   "execution_count": null,
   "metadata": {},
   "outputs": [],
   "source": []
  },
  {
   "cell_type": "markdown",
   "metadata": {},
   "source": [
    "### EXERCISE\n",
    "\n",
    "Modify the code above to plot how often \"Coronavirus\" is used in each of the three subreddits over time"
   ]
  },
  {
   "cell_type": "code",
   "execution_count": 17,
   "metadata": {},
   "outputs": [
    {
     "data": {
      "image/png": "[encoded data removed]",
      "text/plain": [
       "<Figure size 432x288 with 1 Axes>"
      ]
     },
     "metadata": {
      "needs_background": "light"
     },
     "output_type": "display_data"
    }
   ],
   "source": [
    "sr['num_posts'] = 1\n",
    "sr.loc[(pd.isna(sr.selftext)) | (sr.selftext.isin(['[removed]', '[deleted]'])), 'selftext'] = ''\n",
    "sr['all_text'] = sr.title + ' ' + sr.selftext\n",
    "\n",
    "askreddit = sr.loc[sr.subreddit.str.contains('AskReddit') & sr.all_text.str.contains(\"Coronavirus\")]\n",
    "corona = sr.loc[sr.subreddit.str.contains('Coronavirus') & sr.all_text.str.contains(\"Coronavirus\")]\n",
    "politics = sr.loc[sr.subreddit.str.contains('politics')  & sr.all_text.str.contains(\"Coronavirus\")]\n",
    "for df in [askreddit, corona, politics]:\n",
    "    posts_per_day = df.resample('D').num_posts.sum()\n",
    "    posts_per_day.plot()\n",
    "    "
   ]
  },
  {
   "cell_type": "code",
   "execution_count": null,
   "metadata": {},
   "outputs": [],
   "source": []
  },
  {
   "cell_type": "markdown",
   "metadata": {},
   "source": [
    "A similar approach is dictionary-based. The most well-known version of this is [LIWC](http://liwc.wpengine.com/), but the basic idea is that you create a set of words that are associated with a construct you are interested in, and you count how often they appear.\n",
    "\n",
    "This is a very simple example of how you might do this to look for gendered words among our subreddits"
   ]
  },
  {
   "cell_type": "code",
   "execution_count": 15,
   "metadata": {},
   "outputs": [],
   "source": [
    "# First we change NAs and removed/deleted to empty strings\n",
    "sr.loc[(pd.isna(sr.selftext)) | (sr.selftext.isin(['[removed]', '[deleted]'])), 'selftext'] = ''\n",
    "sr['all_text'] = sr.title + ' ' + sr.selftext"
   ]
  },
  {
   "cell_type": "code",
   "execution_count": 16,
   "metadata": {},
   "outputs": [
    {
     "data": {
      "text/html": [
       "<div>\n",
       "<style scoped>\n",
       "    .dataframe tbody tr th:only-of-type {\n",
       "        vertical-align: middle;\n",
       "    }\n",
       "\n",
       "    .dataframe tbody tr th {\n",
       "        vertical-align: top;\n",
       "    }\n",
       "\n",
       "    .dataframe thead th {\n",
       "        text-align: right;\n",
       "    }\n",
       "</style>\n",
       "<table border=\"1\" class=\"dataframe\">\n",
       "  <thead>\n",
       "    <tr style=\"text-align: right;\">\n",
       "      <th></th>\n",
       "      <th>title</th>\n",
       "      <th>selftext</th>\n",
       "      <th>date</th>\n",
       "      <th>subreddit</th>\n",
       "      <th>num_posts</th>\n",
       "      <th>all_text</th>\n",
       "    </tr>\n",
       "    <tr>\n",
       "      <th>date</th>\n",
       "      <th></th>\n",
       "      <th></th>\n",
       "      <th></th>\n",
       "      <th></th>\n",
       "      <th></th>\n",
       "      <th></th>\n",
       "    </tr>\n",
       "  </thead>\n",
       "  <tbody>\n",
       "    <tr>\n",
       "      <td>2020-03-25 03:58:28</td>\n",
       "      <td>What’s your least favorite color? Why?</td>\n",
       "      <td></td>\n",
       "      <td>2020-03-25 03:58:28</td>\n",
       "      <td>AskReddit</td>\n",
       "      <td>1</td>\n",
       "      <td>What’s your least favorite color? Why?</td>\n",
       "    </tr>\n",
       "    <tr>\n",
       "      <td>2020-03-25 03:57:58</td>\n",
       "      <td>What was the reason for the last time you cried?</td>\n",
       "      <td></td>\n",
       "      <td>2020-03-25 03:57:58</td>\n",
       "      <td>AskReddit</td>\n",
       "      <td>1</td>\n",
       "      <td>What was the reason for the last time you cried?</td>\n",
       "    </tr>\n",
       "    <tr>\n",
       "      <td>2020-03-25 03:57:17</td>\n",
       "      <td>What are songs that have to be played full bla...</td>\n",
       "      <td></td>\n",
       "      <td>2020-03-25 03:57:17</td>\n",
       "      <td>AskReddit</td>\n",
       "      <td>1</td>\n",
       "      <td>What are songs that have to be played full bla...</td>\n",
       "    </tr>\n",
       "    <tr>\n",
       "      <td>2020-03-25 03:55:50</td>\n",
       "      <td>How to get rid of excessive amounts of anger a...</td>\n",
       "      <td></td>\n",
       "      <td>2020-03-25 03:55:50</td>\n",
       "      <td>AskReddit</td>\n",
       "      <td>1</td>\n",
       "      <td>How to get rid of excessive amounts of anger a...</td>\n",
       "    </tr>\n",
       "    <tr>\n",
       "      <td>2020-03-25 03:51:49</td>\n",
       "      <td>What's your go to fantasy?</td>\n",
       "      <td></td>\n",
       "      <td>2020-03-25 03:51:49</td>\n",
       "      <td>AskReddit</td>\n",
       "      <td>1</td>\n",
       "      <td>What's your go to fantasy?</td>\n",
       "    </tr>\n",
       "  </tbody>\n",
       "</table>\n",
       "</div>"
      ],
      "text/plain": [
       "                                                                 title  \\\n",
       "date                                                                     \n",
       "2020-03-25 03:58:28             What’s your least favorite color? Why?   \n",
       "2020-03-25 03:57:58   What was the reason for the last time you cried?   \n",
       "2020-03-25 03:57:17  What are songs that have to be played full bla...   \n",
       "2020-03-25 03:55:50  How to get rid of excessive amounts of anger a...   \n",
       "2020-03-25 03:51:49                         What's your go to fantasy?   \n",
       "\n",
       "                    selftext                 date  subreddit  num_posts  \\\n",
       "date                                                                      \n",
       "2020-03-25 03:58:28           2020-03-25 03:58:28  AskReddit          1   \n",
       "2020-03-25 03:57:58           2020-03-25 03:57:58  AskReddit          1   \n",
       "2020-03-25 03:57:17           2020-03-25 03:57:17  AskReddit          1   \n",
       "2020-03-25 03:55:50           2020-03-25 03:55:50  AskReddit          1   \n",
       "2020-03-25 03:51:49           2020-03-25 03:51:49  AskReddit          1   \n",
       "\n",
       "                                                              all_text  \n",
       "date                                                                    \n",
       "2020-03-25 03:58:28            What’s your least favorite color? Why?   \n",
       "2020-03-25 03:57:58  What was the reason for the last time you cried?   \n",
       "2020-03-25 03:57:17  What are songs that have to be played full bla...  \n",
       "2020-03-25 03:55:50  How to get rid of excessive amounts of anger a...  \n",
       "2020-03-25 03:51:49                        What's your go to fantasy?   "
      ]
     },
     "execution_count": 16,
     "metadata": {},
     "output_type": "execute_result"
    }
   ],
   "source": [
    "sr.head()"
   ]
  },
  {
   "cell_type": "code",
   "execution_count": 6,
   "metadata": {},
   "outputs": [
    {
     "name": "stdout",
     "output_type": "stream",
     "text": [
      "subreddit\n",
      "AskReddit      [What’s, your, least, favorite, color?, Why?, ...\n",
      "Coronavirus    [America, in, triage:, Are, we, ready, to, reo...\n",
      "politics       [Trump's, DC, Hotel, Promises, a, “HUGE, Celeb...\n",
      "Name: all_text, dtype: object\n"
     ]
    },
    {
     "data": {
      "text/plain": [
       "             subreddit  \n",
       "proportion2  AskReddit      0.000858\n",
       "             Coronavirus    0.001704\n",
       "             politics       0.005122\n",
       "proportion1  AskReddit      0.000199\n",
       "             Coronavirus    0.000253\n",
       "             politics       0.000126\n",
       "Name: all_text, dtype: float64"
      ]
     },
     "execution_count": 6,
     "metadata": {},
     "output_type": "execute_result"
    }
   ],
   "source": [
    "male_words = ['he', 'his']\n",
    "female_words = ['she', 'hers']\n",
    "# This puts all of the text of each subreddit into lists\n",
    "grouped_text = sr.groupby('subreddit').all_text.apply(lambda x: ' '.join(x).split())\n",
    "print(grouped_text)\n",
    "# Then, we count how often each type of words appears in each subreddit\n",
    "agg = grouped_text.aggregate({'proportion2': lambda x: sum([x.count(y) for y in male_words])/len(x),\n",
    "                        'proportion1': lambda x: sum([x.count(y) for y in female_words])/len(x)}\n",
    "                        )\n",
    "agg"
   ]
  },
  {
   "cell_type": "markdown",
   "metadata": {},
   "source": [
    "### EXERCISES\n",
    "\n",
    "1. One of the trickiest parts of analysis is getting the data in the form that you want it in order to analyze/visualize it. \n",
    "\n",
    "I think a good visualization for this would be a barplot showing how often male and female word types appear for each subreddit. I'll give you the final call to produce the plot:\n",
    "\n",
    "`sns.barplot(x='subreddit', y='proportion', hue = 'word_gender', data = agg_df)`\n",
    "\n",
    "Now, see if you can get the data in shape so that this code actually works! :)\n",
    "\n",
    "*Hint: You'll want to use [wide to long](https://pandas.pydata.org/pandas-docs/stable/reference/api/pandas.wide_to_long.html)*"
   ]
  },
  {
   "cell_type": "code",
   "execution_count": 13,
   "metadata": {},
   "outputs": [
    {
     "data": {
      "text/plain": [
       "<matplotlib.axes._subplots.AxesSubplot at 0x1ed07080208>"
      ]
     },
     "execution_count": 13,
     "metadata": {},
     "output_type": "execute_result"
    },
    {
     "data": {
      "image/png": "[encoded data removed]",
      "text/plain": [
       "<Figure size 432x288 with 1 Axes>"
      ]
     },
     "metadata": {
      "needs_background": "light"
     },
     "output_type": "display_data"
    }
   ],
   "source": [
    "## This code will get the df ready for pd.wide_to_long (try printing agg_df after running these to see what it looks like)\n",
    "agg_df = agg.unstack(level=0)\n",
    "agg_df = agg_df.reset_index()\n",
    "agg_df = pd.wide_to_long(agg_df, stubnames = \"proportion\", i=\"subreddit\", j=\"word_gender\")\n",
    "agg_df = agg_df.reset_index()\n",
    "\n",
    "\n",
    "sns.barplot(x='subreddit', y='proportion', hue = 'word_gender', data = agg_df)"
   ]
  },
  {
   "cell_type": "markdown",
   "metadata": {},
   "source": [
    "2. Make your own analysis, with a different set of terms"
   ]
  },
  {
   "cell_type": "code",
   "execution_count": null,
   "metadata": {},
   "outputs": [],
   "source": [
    "\n",
    "endpt = 'https://api.pushshift.io/reddit/search/submission'\n",
    "\n",
    "subreddits = ['alexa']\n",
    "\n",
    "# Start and end date (pushshift expects these in epoch time)\n",
    "start_date = int(datetime.strptime('2018-01-01', '%Y-%m-%d').timestamp())\n",
    "end_date = int(datetime.strptime('2020-03-25', '%Y-%m-%d').timestamp())\n",
    "\n",
    "\n",
    "def get_posts(subreddit, before = end_date, after = start_date, result = None,  min_comments = 20):\n",
    "    params = {'subreddit': subreddit,\n",
    "              'num_comments': f'>{min_comments}',\n",
    "              'before': before,\n",
    "              'size': 500\n",
    "             }\n",
    "    if result == None:\n",
    "        result = []\n",
    "    r = requests.get(endpt, params=params)\n",
    "    print(r.url)\n",
    "    print(datetime.fromtimestamp(before))\n",
    "    for item in r.json()['data']:\n",
    "        created_time = item['created_utc']\n",
    "        if created_time < after: # If we've reached the earliest we want, then return\n",
    "            print(len(result))\n",
    "            return result\n",
    "        else:\n",
    "            try:\n",
    "                result.append((item['title'],item['selftext'], created_time, subreddit))\n",
    "            except KeyError:\n",
    "                print(item)\n",
    "    time.sleep(.5)\n",
    "    return get_posts(subreddit, before = created_time, result = result)\n",
    "\n",
    "\n",
    "alexa_data = []\n",
    "for subreddit in subreddits:\n",
    "    alexa_data = get_posts(subreddit)\n",
    "alexa = pd.DataFrame(alexa_data, columns = ['title', 'selftext', 'date', 'subreddit'])\n",
    "alexa.date = pd.to_datetime(alexa.date, unit='s')\n",
    "alexa.to_csv('./alexa_post_data.csv', index = False)"
   ]
  },
  {
   "cell_type": "code",
   "execution_count": 15,
   "metadata": {},
   "outputs": [
    {
     "data": {
      "text/html": [
       "<div>\n",
       "<style scoped>\n",
       "    .dataframe tbody tr th:only-of-type {\n",
       "        vertical-align: middle;\n",
       "    }\n",
       "\n",
       "    .dataframe tbody tr th {\n",
       "        vertical-align: top;\n",
       "    }\n",
       "\n",
       "    .dataframe thead th {\n",
       "        text-align: right;\n",
       "    }\n",
       "</style>\n",
       "<table border=\"1\" class=\"dataframe\">\n",
       "  <thead>\n",
       "    <tr style=\"text-align: right;\">\n",
       "      <th></th>\n",
       "      <th>title</th>\n",
       "      <th>selftext</th>\n",
       "      <th>date</th>\n",
       "      <th>subreddit</th>\n",
       "      <th>all_text</th>\n",
       "    </tr>\n",
       "  </thead>\n",
       "  <tbody>\n",
       "    <tr>\n",
       "      <td>0</td>\n",
       "      <td>New device alert: Wyze Band</td>\n",
       "      <td>For $25 I’m either thinking this is incredibly...</td>\n",
       "      <td>2020-03-24 17:07:42</td>\n",
       "      <td>alexa</td>\n",
       "      <td>New device alert: Wyze Band For $25 I’m either...</td>\n",
       "    </tr>\n",
       "    <tr>\n",
       "      <td>1</td>\n",
       "      <td>My first try at motorizing cheap Walmart rolle...</td>\n",
       "      <td></td>\n",
       "      <td>2020-03-19 01:21:34</td>\n",
       "      <td>alexa</td>\n",
       "      <td>My first try at motorizing cheap Walmart rolle...</td>\n",
       "    </tr>\n",
       "    <tr>\n",
       "      <td>2</td>\n",
       "      <td>Echo show finally automatically will show a li...</td>\n",
       "      <td></td>\n",
       "      <td>2020-03-17 06:11:42</td>\n",
       "      <td>alexa</td>\n",
       "      <td>Echo show finally automatically will show a li...</td>\n",
       "    </tr>\n",
       "    <tr>\n",
       "      <td>3</td>\n",
       "      <td>Alexa should allow ‘AND’ed smart home commands.</td>\n",
       "      <td>This: “Alexa: turn off kitchen AND dining room...</td>\n",
       "      <td>2020-03-11 22:27:43</td>\n",
       "      <td>alexa</td>\n",
       "      <td>Alexa should allow ‘AND’ed smart home commands...</td>\n",
       "    </tr>\n",
       "    <tr>\n",
       "      <td>4</td>\n",
       "      <td>Smart switch recommendations?</td>\n",
       "      <td></td>\n",
       "      <td>2020-03-10 01:38:06</td>\n",
       "      <td>alexa</td>\n",
       "      <td>Smart switch recommendations?</td>\n",
       "    </tr>\n",
       "    <tr>\n",
       "      <td>...</td>\n",
       "      <td>...</td>\n",
       "      <td>...</td>\n",
       "      <td>...</td>\n",
       "      <td>...</td>\n",
       "      <td>...</td>\n",
       "    </tr>\n",
       "    <tr>\n",
       "      <td>214</td>\n",
       "      <td>Alexa has become hard of hearing lately.</td>\n",
       "      <td>Several months ago when I first gone an echo a...</td>\n",
       "      <td>2018-02-12 06:53:19</td>\n",
       "      <td>alexa</td>\n",
       "      <td>Alexa has become hard of hearing lately. Sever...</td>\n",
       "    </tr>\n",
       "    <tr>\n",
       "      <td>215</td>\n",
       "      <td>Alexa should have a Polite Mode for kids (and ...</td>\n",
       "      <td>Must say please and thank you.\\nMust ask in po...</td>\n",
       "      <td>2018-02-02 17:55:58</td>\n",
       "      <td>alexa</td>\n",
       "      <td>Alexa should have a Polite Mode for kids (and ...</td>\n",
       "    </tr>\n",
       "    <tr>\n",
       "      <td>216</td>\n",
       "      <td>Tell Alexa to “ask the listeners.” It’s insane...</td>\n",
       "      <td>Update: say “hey guys” once you’re talking to ...</td>\n",
       "      <td>2018-02-02 02:25:42</td>\n",
       "      <td>alexa</td>\n",
       "      <td>Tell Alexa to “ask the listeners.” It’s insane...</td>\n",
       "    </tr>\n",
       "    <tr>\n",
       "      <td>217</td>\n",
       "      <td>How are you using your wifi outlet with Alexa?</td>\n",
       "      <td>We were given one, but I have no idea what to ...</td>\n",
       "      <td>2018-01-26 23:38:14</td>\n",
       "      <td>alexa</td>\n",
       "      <td>How are you using your wifi outlet with Alexa?...</td>\n",
       "    </tr>\n",
       "    <tr>\n",
       "      <td>218</td>\n",
       "      <td>If you could get Amazon to fix / change just o...</td>\n",
       "      <td>My 10 cents, some form of automatic volume con...</td>\n",
       "      <td>2018-01-16 20:25:49</td>\n",
       "      <td>alexa</td>\n",
       "      <td>If you could get Amazon to fix / change just o...</td>\n",
       "    </tr>\n",
       "  </tbody>\n",
       "</table>\n",
       "<p>219 rows × 5 columns</p>\n",
       "</div>"
      ],
      "text/plain": [
       "                                                 title  \\\n",
       "0                          New device alert: Wyze Band   \n",
       "1    My first try at motorizing cheap Walmart rolle...   \n",
       "2    Echo show finally automatically will show a li...   \n",
       "3      Alexa should allow ‘AND’ed smart home commands.   \n",
       "4                        Smart switch recommendations?   \n",
       "..                                                 ...   \n",
       "214           Alexa has become hard of hearing lately.   \n",
       "215  Alexa should have a Polite Mode for kids (and ...   \n",
       "216  Tell Alexa to “ask the listeners.” It’s insane...   \n",
       "217     How are you using your wifi outlet with Alexa?   \n",
       "218  If you could get Amazon to fix / change just o...   \n",
       "\n",
       "                                              selftext                 date  \\\n",
       "0    For $25 I’m either thinking this is incredibly...  2020-03-24 17:07:42   \n",
       "1                                                       2020-03-19 01:21:34   \n",
       "2                                                       2020-03-17 06:11:42   \n",
       "3    This: “Alexa: turn off kitchen AND dining room...  2020-03-11 22:27:43   \n",
       "4                                                       2020-03-10 01:38:06   \n",
       "..                                                 ...                  ...   \n",
       "214  Several months ago when I first gone an echo a...  2018-02-12 06:53:19   \n",
       "215  Must say please and thank you.\\nMust ask in po...  2018-02-02 17:55:58   \n",
       "216  Update: say “hey guys” once you’re talking to ...  2018-02-02 02:25:42   \n",
       "217  We were given one, but I have no idea what to ...  2018-01-26 23:38:14   \n",
       "218  My 10 cents, some form of automatic volume con...  2018-01-16 20:25:49   \n",
       "\n",
       "    subreddit                                           all_text  \n",
       "0       alexa  New device alert: Wyze Band For $25 I’m either...  \n",
       "1       alexa  My first try at motorizing cheap Walmart rolle...  \n",
       "2       alexa  Echo show finally automatically will show a li...  \n",
       "3       alexa  Alexa should allow ‘AND’ed smart home commands...  \n",
       "4       alexa                     Smart switch recommendations?   \n",
       "..        ...                                                ...  \n",
       "214     alexa  Alexa has become hard of hearing lately. Sever...  \n",
       "215     alexa  Alexa should have a Polite Mode for kids (and ...  \n",
       "216     alexa  Tell Alexa to “ask the listeners.” It’s insane...  \n",
       "217     alexa  How are you using your wifi outlet with Alexa?...  \n",
       "218     alexa  If you could get Amazon to fix / change just o...  \n",
       "\n",
       "[219 rows x 5 columns]"
      ]
     },
     "execution_count": 15,
     "metadata": {},
     "output_type": "execute_result"
    }
   ],
   "source": [
    "alexa_df = pd.read_csv('./alexa_post_data.csv')\n",
    "alexa_df.loc[(pd.isna(alexa_df.selftext)) | (alexa_df.selftext.isin(['[removed]', '[deleted]'])), 'selftext'] = ''\n",
    "alexa_df['all_text'] = alexa_df.title + ' ' + alexa_df.selftext\n",
    "alexa_df"
   ]
  },
  {
   "cell_type": "code",
   "execution_count": 29,
   "metadata": {},
   "outputs": [
    {
     "name": "stdout",
     "output_type": "stream",
     "text": [
      "                                                                 title  \\\n",
      "date                                                                     \n",
      "2020-03-24 17:07:42                        New device alert: Wyze Band   \n",
      "2020-03-19 01:21:34  My first try at motorizing cheap Walmart rolle...   \n",
      "2020-03-17 06:11:42  Echo show finally automatically will show a li...   \n",
      "2020-03-11 22:27:43    Alexa should allow ‘AND’ed smart home commands.   \n",
      "2020-03-10 01:38:06                      Smart switch recommendations?   \n",
      "...                                                                ...   \n",
      "2018-02-12 06:53:19           Alexa has become hard of hearing lately.   \n",
      "2018-02-02 17:55:58  Alexa should have a Polite Mode for kids (and ...   \n",
      "2018-02-02 02:25:42  Tell Alexa to “ask the listeners.” It’s insane...   \n",
      "2018-01-26 23:38:14     How are you using your wifi outlet with Alexa?   \n",
      "2018-01-16 20:25:49  If you could get Amazon to fix / change just o...   \n",
      "\n",
      "                                                              selftext  \\\n",
      "date                                                                     \n",
      "2020-03-24 17:07:42  For $25 I’m either thinking this is incredibly...   \n",
      "2020-03-19 01:21:34                                                      \n",
      "2020-03-17 06:11:42                                                      \n",
      "2020-03-11 22:27:43  This: “Alexa: turn off kitchen AND dining room...   \n",
      "2020-03-10 01:38:06                                                      \n",
      "...                                                                ...   \n",
      "2018-02-12 06:53:19  Several months ago when I first gone an echo a...   \n",
      "2018-02-02 17:55:58  Must say please and thank you.\\nMust ask in po...   \n",
      "2018-02-02 02:25:42  Update: say “hey guys” once you’re talking to ...   \n",
      "2018-01-26 23:38:14  We were given one, but I have no idea what to ...   \n",
      "2018-01-16 20:25:49  My 10 cents, some form of automatic volume con...   \n",
      "\n",
      "                                    date subreddit  \\\n",
      "date                                                 \n",
      "2020-03-24 17:07:42  2020-03-24 17:07:42     alexa   \n",
      "2020-03-19 01:21:34  2020-03-19 01:21:34     alexa   \n",
      "2020-03-17 06:11:42  2020-03-17 06:11:42     alexa   \n",
      "2020-03-11 22:27:43  2020-03-11 22:27:43     alexa   \n",
      "2020-03-10 01:38:06  2020-03-10 01:38:06     alexa   \n",
      "...                                  ...       ...   \n",
      "2018-02-12 06:53:19  2018-02-12 06:53:19     alexa   \n",
      "2018-02-02 17:55:58  2018-02-02 17:55:58     alexa   \n",
      "2018-02-02 02:25:42  2018-02-02 02:25:42     alexa   \n",
      "2018-01-26 23:38:14  2018-01-26 23:38:14     alexa   \n",
      "2018-01-16 20:25:49  2018-01-16 20:25:49     alexa   \n",
      "\n",
      "                                                              all_text  \\\n",
      "date                                                                     \n",
      "2020-03-24 17:07:42  New device alert: Wyze Band For $25 I’m either...   \n",
      "2020-03-19 01:21:34  My first try at motorizing cheap Walmart rolle...   \n",
      "2020-03-17 06:11:42  Echo show finally automatically will show a li...   \n",
      "2020-03-11 22:27:43  Alexa should allow ‘AND’ed smart home commands...   \n",
      "2020-03-10 01:38:06                     Smart switch recommendations?    \n",
      "...                                                                ...   \n",
      "2018-02-12 06:53:19  Alexa has become hard of hearing lately. Sever...   \n",
      "2018-02-02 17:55:58  Alexa should have a Polite Mode for kids (and ...   \n",
      "2018-02-02 02:25:42  Tell Alexa to “ask the listeners.” It’s insane...   \n",
      "2018-01-26 23:38:14  How are you using your wifi outlet with Alexa?...   \n",
      "2018-01-16 20:25:49  If you could get Amazon to fix / change just o...   \n",
      "\n",
      "                     num_posts  \n",
      "date                            \n",
      "2020-03-24 17:07:42          1  \n",
      "2020-03-19 01:21:34          1  \n",
      "2020-03-17 06:11:42          1  \n",
      "2020-03-11 22:27:43          1  \n",
      "2020-03-10 01:38:06          1  \n",
      "...                        ...  \n",
      "2018-02-12 06:53:19          1  \n",
      "2018-02-02 17:55:58          1  \n",
      "2018-02-02 02:25:42          1  \n",
      "2018-01-26 23:38:14          1  \n",
      "2018-01-16 20:25:49          1  \n",
      "\n",
      "[219 rows x 6 columns]\n",
      "Empty DataFrame\n",
      "Columns: [title, selftext, date, subreddit, all_text, num_posts]\n",
      "Index: []\n",
      "Empty DataFrame\n",
      "Columns: [title, selftext, date, subreddit, all_text, num_posts]\n",
      "Index: []\n"
     ]
    },
    {
     "ename": "TypeError",
     "evalue": "Only valid with DatetimeIndex, TimedeltaIndex or PeriodIndex, but got an instance of 'RangeIndex'",
     "output_type": "error",
     "traceback": [
      "\u001b[1;31m---------------------------------------------------------------------------\u001b[0m",
      "\u001b[1;31mTypeError\u001b[0m                                 Traceback (most recent call last)",
      "\u001b[1;32m<ipython-input-29-3c100f62afd3>\u001b[0m in \u001b[0;36m<module>\u001b[1;34m\u001b[0m\n\u001b[0;32m     10\u001b[0m     \u001b[0malexa_interest_df\u001b[0m \u001b[1;33m=\u001b[0m \u001b[0malexa_interest_df\u001b[0m\u001b[1;33m.\u001b[0m\u001b[0mreset_index\u001b[0m\u001b[1;33m(\u001b[0m\u001b[0mdrop\u001b[0m\u001b[1;33m=\u001b[0m\u001b[1;32mTrue\u001b[0m\u001b[1;33m)\u001b[0m\u001b[1;33m\u001b[0m\u001b[1;33m\u001b[0m\u001b[0m\n\u001b[0;32m     11\u001b[0m     \u001b[0mprint\u001b[0m\u001b[1;33m(\u001b[0m\u001b[0malexa_interest_df\u001b[0m\u001b[1;33m)\u001b[0m\u001b[1;33m\u001b[0m\u001b[1;33m\u001b[0m\u001b[0m\n\u001b[1;32m---> 12\u001b[1;33m     \u001b[0mposts_per_month\u001b[0m \u001b[1;33m=\u001b[0m \u001b[0malexa_interest_df\u001b[0m\u001b[1;33m.\u001b[0m\u001b[0mresample\u001b[0m\u001b[1;33m(\u001b[0m\u001b[1;34m'm'\u001b[0m\u001b[1;33m)\u001b[0m\u001b[1;33m.\u001b[0m\u001b[0mnum_posts\u001b[0m\u001b[1;33m.\u001b[0m\u001b[0msum\u001b[0m\u001b[1;33m(\u001b[0m\u001b[1;33m)\u001b[0m\u001b[1;33m\u001b[0m\u001b[1;33m\u001b[0m\u001b[0m\n\u001b[0m\u001b[0;32m     13\u001b[0m     \u001b[0mprint\u001b[0m\u001b[1;33m(\u001b[0m\u001b[0mposts_per_month\u001b[0m\u001b[1;33m)\u001b[0m\u001b[1;33m\u001b[0m\u001b[1;33m\u001b[0m\u001b[0m\n\u001b[0;32m     14\u001b[0m     \u001b[0mposts_per_month\u001b[0m\u001b[1;33m.\u001b[0m\u001b[0mplot\u001b[0m\u001b[1;33m(\u001b[0m\u001b[0mlabel\u001b[0m \u001b[1;33m=\u001b[0m \u001b[0mterm\u001b[0m\u001b[1;33m)\u001b[0m\u001b[1;33m\u001b[0m\u001b[1;33m\u001b[0m\u001b[0m\n",
      "\u001b[1;32m~\\Anaconda3\\lib\\site-packages\\pandas\\core\\generic.py\u001b[0m in \u001b[0;36mresample\u001b[1;34m(self, rule, how, axis, fill_method, closed, label, convention, kind, loffset, limit, base, on, level)\u001b[0m\n\u001b[0;32m   8447\u001b[0m             \u001b[0mbase\u001b[0m\u001b[1;33m=\u001b[0m\u001b[0mbase\u001b[0m\u001b[1;33m,\u001b[0m\u001b[1;33m\u001b[0m\u001b[1;33m\u001b[0m\u001b[0m\n\u001b[0;32m   8448\u001b[0m             \u001b[0mkey\u001b[0m\u001b[1;33m=\u001b[0m\u001b[0mon\u001b[0m\u001b[1;33m,\u001b[0m\u001b[1;33m\u001b[0m\u001b[1;33m\u001b[0m\u001b[0m\n\u001b[1;32m-> 8449\u001b[1;33m             \u001b[0mlevel\u001b[0m\u001b[1;33m=\u001b[0m\u001b[0mlevel\u001b[0m\u001b[1;33m,\u001b[0m\u001b[1;33m\u001b[0m\u001b[1;33m\u001b[0m\u001b[0m\n\u001b[0m\u001b[0;32m   8450\u001b[0m         )\n\u001b[0;32m   8451\u001b[0m         return _maybe_process_deprecations(\n",
      "\u001b[1;32m~\\Anaconda3\\lib\\site-packages\\pandas\\core\\resample.py\u001b[0m in \u001b[0;36mresample\u001b[1;34m(obj, kind, **kwds)\u001b[0m\n\u001b[0;32m   1304\u001b[0m     \"\"\"\n\u001b[0;32m   1305\u001b[0m     \u001b[0mtg\u001b[0m \u001b[1;33m=\u001b[0m \u001b[0mTimeGrouper\u001b[0m\u001b[1;33m(\u001b[0m\u001b[1;33m**\u001b[0m\u001b[0mkwds\u001b[0m\u001b[1;33m)\u001b[0m\u001b[1;33m\u001b[0m\u001b[1;33m\u001b[0m\u001b[0m\n\u001b[1;32m-> 1306\u001b[1;33m     \u001b[1;32mreturn\u001b[0m \u001b[0mtg\u001b[0m\u001b[1;33m.\u001b[0m\u001b[0m_get_resampler\u001b[0m\u001b[1;33m(\u001b[0m\u001b[0mobj\u001b[0m\u001b[1;33m,\u001b[0m \u001b[0mkind\u001b[0m\u001b[1;33m=\u001b[0m\u001b[0mkind\u001b[0m\u001b[1;33m)\u001b[0m\u001b[1;33m\u001b[0m\u001b[1;33m\u001b[0m\u001b[0m\n\u001b[0m\u001b[0;32m   1307\u001b[0m \u001b[1;33m\u001b[0m\u001b[0m\n\u001b[0;32m   1308\u001b[0m \u001b[1;33m\u001b[0m\u001b[0m\n",
      "\u001b[1;32m~\\Anaconda3\\lib\\site-packages\\pandas\\core\\resample.py\u001b[0m in \u001b[0;36m_get_resampler\u001b[1;34m(self, obj, kind)\u001b[0m\n\u001b[0;32m   1441\u001b[0m             \u001b[1;34m\"Only valid with DatetimeIndex, \"\u001b[0m\u001b[1;33m\u001b[0m\u001b[1;33m\u001b[0m\u001b[0m\n\u001b[0;32m   1442\u001b[0m             \u001b[1;34m\"TimedeltaIndex or PeriodIndex, \"\u001b[0m\u001b[1;33m\u001b[0m\u001b[1;33m\u001b[0m\u001b[0m\n\u001b[1;32m-> 1443\u001b[1;33m             \u001b[1;34m\"but got an instance of %r\"\u001b[0m \u001b[1;33m%\u001b[0m \u001b[0mtype\u001b[0m\u001b[1;33m(\u001b[0m\u001b[0max\u001b[0m\u001b[1;33m)\u001b[0m\u001b[1;33m.\u001b[0m\u001b[0m__name__\u001b[0m\u001b[1;33m\u001b[0m\u001b[1;33m\u001b[0m\u001b[0m\n\u001b[0m\u001b[0;32m   1444\u001b[0m         )\n\u001b[0;32m   1445\u001b[0m \u001b[1;33m\u001b[0m\u001b[0m\n",
      "\u001b[1;31mTypeError\u001b[0m: Only valid with DatetimeIndex, TimedeltaIndex or PeriodIndex, but got an instance of 'RangeIndex'"
     ]
    }
   ],
   "source": [
    "alexa_df['num_posts'] = 1\n",
    "alexa_df.index = pd.to_datetime(alexa_df.date)\n",
    "print(alexa_df)\n",
    "\n",
    "\n",
    "\n",
    "for term in ['firetv cube', 'echo', 'dot', 'show', 'alexa']:\n",
    "    alexa_interest_df = alexa_df.loc[alexa_df.all_text.str.contains(term)]\n",
    "    print(alexa_interest_df)\n",
    "    alexa_interest_df = alexa_interest_df.reset_index(drop=True)\n",
    "    print(alexa_interest_df)\n",
    "    posts_per_month = alexa_interest_df.resample('m').num_posts.sum()\n",
    "    print(posts_per_month)\n",
    "    posts_per_month.plot(label = term)\n",
    "\n",
    "plt.legend()\n",
    "plt.show()"
   ]
  },
  {
   "cell_type": "markdown",
   "metadata": {},
   "source": [
    "## TF-IDF\n",
    "\n",
    "There are more complicated approaches to summarization in Python, including using LIWC (see [here](https://pypi.org/project/liwc/)).\n",
    "\n",
    "Almost all approaches are based on a \"bag of words\" approach, where the order of words is totally ignored. This is obviously a big simplification, but can often work quite well.\n",
    "\n",
    "One thing we might want to do is to differentiate groups of texts based on how often words are used. The naive way is to just count how often words appear. However, the most common words will always appear first. So, computational linguists came up with \"term frequency--inverse document frequency\" (TF-IDF). This normalizes words based on how often they appear across groups of texts. A detailed explanation with code is [here](https://towardsdatascience.com/natural-language-processing-feature-engineering-using-tf-idf-e8b9d00e7e76).\n",
    "\n",
    "There are a number of NLP / text analysis libraries in Python. The one I'm most familiar with is scikit-learn, which is a machine learning library. NLTK, SpaCy, and textblob are some of the most popular. Here is how to run TF-IDF in scikit-learn."
   ]
  },
  {
   "cell_type": "code",
   "execution_count": 3,
   "metadata": {},
   "outputs": [
    {
     "ename": "NameError",
     "evalue": "name 'grouped_text' is not defined",
     "output_type": "error",
     "traceback": [
      "\u001b[1;31m---------------------------------------------------------------------------\u001b[0m",
      "\u001b[1;31mNameError\u001b[0m                                 Traceback (most recent call last)",
      "\u001b[1;32m<ipython-input-3-66e066e525ec>\u001b[0m in \u001b[0;36m<module>\u001b[1;34m\u001b[0m\n\u001b[0;32m      4\u001b[0m \u001b[0mvectorizer\u001b[0m \u001b[1;33m=\u001b[0m \u001b[0mTfidfVectorizer\u001b[0m\u001b[1;33m(\u001b[0m\u001b[0mmax_features\u001b[0m\u001b[1;33m=\u001b[0m\u001b[1;36m5000\u001b[0m\u001b[1;33m,\u001b[0m \u001b[0mstop_words\u001b[0m\u001b[1;33m=\u001b[0m\u001b[1;34m'english'\u001b[0m\u001b[1;33m)\u001b[0m\u001b[1;33m\u001b[0m\u001b[1;33m\u001b[0m\u001b[0m\n\u001b[0;32m      5\u001b[0m \u001b[1;33m\u001b[0m\u001b[0m\n\u001b[1;32m----> 6\u001b[1;33m \u001b[0mas_text\u001b[0m \u001b[1;33m=\u001b[0m \u001b[1;33m[\u001b[0m\u001b[1;34m' '\u001b[0m\u001b[1;33m.\u001b[0m\u001b[0mjoin\u001b[0m\u001b[1;33m(\u001b[0m\u001b[0mx\u001b[0m\u001b[1;33m)\u001b[0m \u001b[1;32mfor\u001b[0m \u001b[0mx\u001b[0m \u001b[1;32min\u001b[0m \u001b[0mgrouped_text\u001b[0m\u001b[1;33m]\u001b[0m\u001b[1;33m\u001b[0m\u001b[1;33m\u001b[0m\u001b[0m\n\u001b[0m\u001b[0;32m      7\u001b[0m \u001b[1;33m\u001b[0m\u001b[0m\n\u001b[0;32m      8\u001b[0m \u001b[0mtfidf_result\u001b[0m \u001b[1;33m=\u001b[0m \u001b[0mvectorizer\u001b[0m\u001b[1;33m.\u001b[0m\u001b[0mfit_transform\u001b[0m\u001b[1;33m(\u001b[0m\u001b[0mas_text\u001b[0m\u001b[1;33m)\u001b[0m\u001b[1;33m\u001b[0m\u001b[1;33m\u001b[0m\u001b[0m\n",
      "\u001b[1;31mNameError\u001b[0m: name 'grouped_text' is not defined"
     ]
    }
   ],
   "source": [
    "from sklearn.feature_extraction.text import TfidfVectorizer\n",
    "\n",
    "# Just gets the 5000 most common words\n",
    "vectorizer = TfidfVectorizer(max_features=5000, stop_words='english')\n",
    "\n",
    "as_text = [' '.join(x) for x in grouped_text]\n",
    "\n",
    "tfidf_result = vectorizer.fit_transform(as_text)\n",
    "feature_names = vectorizer.get_feature_names()\n",
    "dense = tfidf_result.todense()\n",
    "denselist = dense.tolist()\n",
    "df = pd.DataFrame(denselist, columns=feature_names).transpose()\n",
    "df.columns = ['AskReddit','Coronavirus', 'politics']"
   ]
  },
  {
   "cell_type": "code",
   "execution_count": null,
   "metadata": {},
   "outputs": [],
   "source": [
    "# This shows the values with the highest TF-IDF for r/Coronavirus\n",
    "df.sort_values('politics', ascending=False).head(20)"
   ]
  },
  {
   "cell_type": "markdown",
   "metadata": {},
   "source": [
    "## Classification\n",
    "\n",
    "Another commonly-used tool in NLP is classification. This is a \"supervised machine learning\" model, where you build a \"training set\" of items that are classified, and a machine learner uses that set to predict the classification of new items.\n",
    "\n",
    "One very common example is sentiment. In sentiment analysis, a random set of texts is manually classified as positive, neutral, or negative. This set is then used to train a classifier to predict the sentiment of unseen texts.\n",
    "\n",
    "It's beyond the scope of this class to learn how to do machine learning, but there are also pre-trained classifiers. One I found is from [textblob](https://textblob.readthedocs.io/en/dev/).\n",
    "\n",
    "NLTK also has a pre-trained classifier, trained on social media data, called VADER. That is pretty similar to what we're looking at, so this example shows how to use it.\n",
    "\n",
    "NLTK is interesting - the core is installed in Anaconda, so you should have it. However, to get various pieces to work you need to install them. So, we need to start by installing the vader lexicon."
   ]
  },
  {
   "cell_type": "code",
   "execution_count": null,
   "metadata": {},
   "outputs": [],
   "source": [
    "import nltk\n",
    "nltk.downloader.download('vader_lexicon')"
   ]
  },
  {
   "cell_type": "code",
   "execution_count": null,
   "metadata": {},
   "outputs": [],
   "source": [
    "from nltk.sentiment.vader import SentimentIntensityAnalyzer\n",
    "\n",
    "analyzer = SentimentIntensityAnalyzer()\n",
    "\n",
    "def get_sentiment(sentence):\n",
    "    vs = analyzer.polarity_scores(sentence)\n",
    "    return vs['compound']\n",
    "\n",
    "sr['sentiment'] = sr.all_text.apply(get_sentiment)"
   ]
  },
  {
   "cell_type": "code",
   "execution_count": null,
   "metadata": {},
   "outputs": [],
   "source": [
    "sr.sort_values('sentiment', ascending=False).head()"
   ]
  },
  {
   "cell_type": "markdown",
   "metadata": {},
   "source": [
    "## Topic Modeling\n",
    "\n",
    "Finally, I'm going to show an example of topic modeling.\n",
    "\n",
    "This is complicated, both mathematically and in code. I'm pulling this example from [my book chapter](https://communitydata.science/social-media-chapter/), which was itself based on [this example](https://scikit-learn.org/stable/auto_examples/applications/plot_topics_extraction_with_nmf_lda.html#sphx-glr-auto-examples-applications-plot-topics-extraction-with-nmf-lda-py).\n",
    "\n",
    "The basic idea of topic modeling is that you are trying to optimize the likelihood of a set of distributions of words over topics and topics over documents based on the documents that actually exist. The idea is that each document can be seen as being generated by a mix of topics, and we try to find the set of topics that best matches. This works best on a large set of documents, which are themselves each quite large. Today we're making the mistake of using it on a small number of documents. I've made the opposite mistake before of using it on something like tweets. It works OK-ish in both of these circumstances, but it isn't ideal."
   ]
  },
  {
   "cell_type": "code",
   "execution_count": null,
   "metadata": {},
   "outputs": [],
   "source": [
    "from time import time\n",
    "from sklearn.feature_extraction.text import TfidfVectorizer, CountVectorizer\n",
    "from sklearn.decomposition import NMF, LatentDirichletAllocation\n",
    "import sys\n",
    "import csv\n",
    "import pandas as pd\n",
    "import argparse\n",
    "\n",
    "\"\"\"\n",
    "This code was inspired/copied from http://scikit-learn.org/stable/auto_examples/applications/topics_extraction_with_nmf_lda.html.\n",
    "\n",
    "It takes in a list of documents and creates two outputs:\n",
    "1. The documents together with their topic distribution and \n",
    "2. A set of topics and the top words associated with each.\n",
    "\"\"\"\n",
    "\n",
    "\n",
    "def run_lda(dataset, \n",
    "            n_topics = 10,     # How many topics to produce\n",
    "            n_features = 20000 # How many different n-grams to consider (uses the most common)\n",
    "           ):\n",
    "\n",
    "\n",
    "    print(\"Loading dataset...\")\n",
    "    t0 = time()\n",
    "    print(\"done in %0.3fs.\" % (time() - t0))\n",
    "\n",
    "    # Use tf (raw term count) features for LDA.\n",
    "    print(\"Extracting tf features for LDA...\")\n",
    "    tf_vectorizer = CountVectorizer(max_df=0.95, # Terms that show up in > max_df of documents are ignored\n",
    "                                    #min_df=2, # Terms that show up in < min_df of documents are ignored\n",
    "                                    max_features=n_features, # Only use the top max_features \n",
    "                                    stop_words='english',\n",
    "                                    ngram_range=(1,2))\n",
    "    t0 = time()\n",
    "    tf = tf_vectorizer.fit_transform(dataset)\n",
    "    print(\"done in %0.3fs.\" % (time() - t0))\n",
    "\n",
    "\n",
    "    print(\"Fitting LDA models with tf features, \"\n",
    "          \"n_samples=%d and n_features=%d...\"\n",
    "          % (len(dataset), n_features))\n",
    "    lda = LatentDirichletAllocation(n_components=n_topics, max_iter=5,\n",
    "                                    learning_method='online',\n",
    "                                    learning_offset=50.,\n",
    "                                    random_state=2017,\n",
    "                                    n_jobs=2)\n",
    "    t0 = time()\n",
    "    model = lda.fit(tf)\n",
    "    transformed_model = lda.fit_transform(tf)\n",
    "    print(\"done in %0.3fs.\" % (time() - t0))\n",
    "\n",
    "\n",
    "    # Change the values into a probability distribution for each document\n",
    "    topic_dist = [[topic/sum(topics) \n",
    "                   for topic in topics]\n",
    "                          for topics in transformed_model]\n",
    "\n",
    "    # Make the topic distribution into a dataframe\n",
    "    td = pd.DataFrame(topic_dist)\n",
    "    # Get the feature names (i.e., the words/terms)\n",
    "    tf_feature_names = tf_vectorizer.get_feature_names()\n",
    "\n",
    "\n",
    "    # Get the top words by topic\n",
    "    topic_words = get_top_words(lda, tf_feature_names, 20)\n",
    "    # Sort by how often topic is used\n",
    "    topic_words = topic_words.reindex(sorted(topic_words.columns, \n",
    "                                             key = lambda x: td[x].sum(), \n",
    "                                             reverse=True),axis=1)\n",
    "\n",
    "    # Rearrange the columns by how often each topic is used\n",
    "    td = td.reindex(sorted(td.columns, \n",
    "                           key = lambda x: td[x].sum(), \n",
    "                           reverse=True),\n",
    "                    axis=1)\n",
    "    \n",
    "    print('Topics by how common each topic is:')\n",
    "    print(topic_words)\n",
    "    print('Distributions of topic for each subreddit')\n",
    "    print(td)\n",
    "    \n",
    "\n",
    "\n",
    "def get_top_words(model, feature_names, n_top_words):\n",
    "    '''Takes the model, the words used, and the number of words requested.\n",
    "    Returns a dataframe of the top n_top_words for each topic'''\n",
    "    r = pd.DataFrame()\n",
    "    # For each topic\n",
    "    for i, topic in enumerate(model.components_):\n",
    "        # Get the top feature names, and put them in that column\n",
    "        r[i] = [add_quotes(feature_names[i])\n",
    "                    for i in topic.argsort()[:-n_top_words - 1:-1]]\n",
    "    return r\n",
    "\n",
    "def add_quotes(s):\n",
    "    '''Adds quotes around multiple term phrases'''\n",
    "    if \" \" in s:\n",
    "        s =  '\"{}\"'.format(s)\n",
    "    return s"
   ]
  },
  {
   "cell_type": "markdown",
   "metadata": {},
   "source": [
    "## Version 1\n",
    "\n",
    "This version treats all of the text from a subreddit as a single document, and compares subreddits."
   ]
  },
  {
   "cell_type": "code",
   "execution_count": null,
   "metadata": {},
   "outputs": [],
   "source": [
    "# Gets all of the strings for each subreddit and combines them into one long string for\n",
    "# that subreddit\n",
    "dataset = []\n",
    "for s in grouped_text:\n",
    "    dataset.append(' '.join(s))\n",
    "\n",
    "# Takes that list of \"documents\" and runs LDA on it\n",
    "run_lda(dataset)"
   ]
  },
  {
   "cell_type": "markdown",
   "metadata": {},
   "source": [
    "## Version 2\n",
    "\n",
    "This version tries to look at the range of topics from the Coronavirus subreddit. It takes all of the different posts from just the Coronavirus subreddit and treats each one as a document. In this case, the problem is that they are almost all short (they are typically headlines of articles that are shared)."
   ]
  },
  {
   "cell_type": "code",
   "execution_count": null,
   "metadata": {},
   "outputs": [],
   "source": [
    "dataset = sr.loc[sr.subreddit == 'Coronavirus', 'all_text']\n",
    "run_lda(dataset)"
   ]
  },
  {
   "cell_type": "markdown",
   "metadata": {},
   "source": [
    "I think that this is quite a bit better and you can start to see some patterns and topics emerging."
   ]
  },
  {
   "cell_type": "markdown",
   "metadata": {},
   "source": [
    "### EXERCISE\n",
    "\n",
    "Where topic modeling really shines is in analyzing longer texts - for example, the subreddit [changemyview](https://www.reddit.com/r/changemyview/) has fairly long posts where people explain a controversial view that they hold.\n",
    "\n",
    "Try to figure out how to get the posts from changemyview, and run a topic model on them, where the selftext of each post is a document."
   ]
  },
  {
   "cell_type": "code",
   "execution_count": null,
   "metadata": {},
   "outputs": [],
   "source": [
    "endpt = 'https://api.pushshift.io/reddit/search/submission'\n",
    "\n",
    "subreddits = ['changemyview']\n",
    "\n",
    "# Start and end date (pushshift expects these in epoch time)\n",
    "start_date = int(datetime.strptime('2020-03-11', '%Y-%m-%d').timestamp())\n",
    "end_date = int(datetime.strptime('2020-06-25', '%Y-%m-%d').timestamp())\n",
    "\n",
    "\n",
    "def get_posts(subreddit, before = end_date, after = start_date, result = None,  min_comments = 20):\n",
    "    params = {'subreddit': subreddit,\n",
    "              'num_comments': f'>{min_comments}',\n",
    "              'before': before,\n",
    "              'size': 500\n",
    "             }\n",
    "    if result == None:\n",
    "        result = []\n",
    "    r = requests.get(endpt, params=params)\n",
    "    print(r.url)\n",
    "    print(datetime.fromtimestamp(before))\n",
    "    for item in r.json()['data']:\n",
    "        created_time = item['created_utc']\n",
    "        if created_time < after: # If we've reached the earliest we want, then return\n",
    "            print(len(result))\n",
    "            return result\n",
    "        else:\n",
    "            try:\n",
    "                result.append((item['title'],item['selftext'], created_time, subreddit))\n",
    "            except KeyError:\n",
    "                print(item)\n",
    "    time.sleep(.5)\n",
    "    return get_posts(subreddit, before = created_time, result = result)\n",
    "\n",
    "\n",
    "sr_data = []\n",
    "for subreddit in subreddits:\n",
    "    new_data = get_posts(subreddit)\n",
    "    sr_data = sr_data + new_data\n",
    "sr = pd.DataFrame(sr_data, columns = ['title', 'selftext', 'date', 'subreddit'])\n",
    "sr.date = pd.to_datetime(sr.date, unit='s')\n",
    "sr.to_csv('./sr_post_data.csv', index = False)"
   ]
  },
  {
   "cell_type": "code",
   "execution_count": null,
   "metadata": {},
   "outputs": [],
   "source": [
    "from time import time\n",
    "from sklearn.feature_extraction.text import TfidfVectorizer, CountVectorizer\n",
    "from sklearn.decomposition import NMF, LatentDirichletAllocation\n",
    "import sys\n",
    "import csv\n",
    "import pandas as pd\n",
    "import argparse\n",
    "\n",
    "changemyview_df = pd.read_csv('./sr_post_data.csv')\n",
    "changemyview_df.loc[(pd.isna(changemyview_df.selftext)) | (changemyview_df.selftext.isin(['[removed]', '[deleted]'])), 'selftext'] = ''\n"
   ]
  },
  {
   "cell_type": "code",
   "execution_count": null,
   "metadata": {},
   "outputs": [],
   "source": [
    "dataset = []\n",
    "for s in changemyview_df.selftext:\n",
    "    dataset.append(s)\n",
    "\n",
    "run_lda(dataset)"
   ]
  },
  {
   "cell_type": "code",
   "execution_count": 35,
   "metadata": {},
   "outputs": [
    {
     "data": {
      "text/html": [
       "<div>\n",
       "<style scoped>\n",
       "    .dataframe tbody tr th:only-of-type {\n",
       "        vertical-align: middle;\n",
       "    }\n",
       "\n",
       "    .dataframe tbody tr th {\n",
       "        vertical-align: top;\n",
       "    }\n",
       "\n",
       "    .dataframe thead th {\n",
       "        text-align: right;\n",
       "    }\n",
       "</style>\n",
       "<table border=\"1\" class=\"dataframe\">\n",
       "  <thead>\n",
       "    <tr style=\"text-align: right;\">\n",
       "      <th></th>\n",
       "      <th>title</th>\n",
       "      <th>selftext</th>\n",
       "      <th>date</th>\n",
       "      <th>subreddit</th>\n",
       "      <th>num_posts</th>\n",
       "    </tr>\n",
       "    <tr>\n",
       "      <th>date</th>\n",
       "      <th></th>\n",
       "      <th></th>\n",
       "      <th></th>\n",
       "      <th></th>\n",
       "      <th></th>\n",
       "    </tr>\n",
       "  </thead>\n",
       "  <tbody>\n",
       "  </tbody>\n",
       "</table>\n",
       "</div>"
      ],
      "text/plain": [
       "Empty DataFrame\n",
       "Columns: [title, selftext, date, subreddit, num_posts]\n",
       "Index: []"
      ]
     },
     "execution_count": 35,
     "metadata": {},
     "output_type": "execute_result"
    }
   ],
   "source": [
    "alexa_interest_df"
   ]
  },
  {
   "cell_type": "code",
   "execution_count": null,
   "metadata": {},
   "outputs": [],
   "source": []
  }
 ],
 "metadata": {
  "kernelspec": {
   "display_name": "Python 3",
   "language": "python",
   "name": "python3"
  },
  "language_info": {
   "codemirror_mode": {
    "name": "ipython",
    "version": 3
   },
   "file_extension": ".py",
   "mimetype": "text/x-python",
   "name": "python",
   "nbconvert_exporter": "python",
   "pygments_lexer": "ipython3",
   "version": "3.7.4"
  }
 },
 "nbformat": 4,
 "nbformat_minor": 2
}
