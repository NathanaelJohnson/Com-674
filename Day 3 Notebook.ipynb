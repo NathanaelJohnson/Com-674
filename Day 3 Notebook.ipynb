{
 "cells": [
  {
   "cell_type": "code",
   "execution_count": null,
   "metadata": {},
   "outputs": [],
   "source": [
    "# Exercise 5.1\n",
    "count = 0\n",
    "total = None\n",
    "while True: \n",
    "    number = input(\">\")\n",
    "    if number == \"done\":\n",
    "        average = float(total) / float(count)\n",
    "        print(\"Total: \" + str(total))\n",
    "        print(\"Average: \"  + str(average))\n",
    "        print(\"Count: \" + str(count))\n",
    "        print(\"Done.\")\n",
    "        total = None\n",
    "        count = 0\n",
    "        break\n",
    "    else:\n",
    "        try:\n",
    "            if total == None:\n",
    "                total = float(number)\n",
    "            else:\n",
    "                total = float(number) + total\n",
    "            count = count + 1\n",
    "            continue\n",
    "        except:\n",
    "            print(\"Please enter a valid number.\")\n",
    "    \n",
    "    \n",
    "\n",
    "  \n"
   ]
  },
  {
   "cell_type": "code",
   "execution_count": null,
   "metadata": {},
   "outputs": [],
   "source": [
    "# Exercise 5.2\n",
    "lowest = None\n",
    "highest = None\n",
    "count = 0\n",
    "total = None\n",
    "while True: \n",
    "    number = input(\">\")\n",
    "    if number == \"done\":\n",
    "        print(\"Minimum: \" + str(lowest))\n",
    "        print(\"Maximum: \" + str(highest))\n",
    "        print(\"Total: \" + str(total))\n",
    "        print(\"Count: \" + str(count))\n",
    "        print(\"Done.\")\n",
    "        lowest = None\n",
    "        highest = None\n",
    "        count = 0\n",
    "        total = None\n",
    "        break\n",
    "    else:\n",
    "        try:\n",
    "            if lowest == None or float(number) < lowest:\n",
    "                lowest = float(number)\n",
    "            if highest == None or float(number) > highest:\n",
    "                highest = float(number)\n",
    "            if total == None:\n",
    "                total = float(number)\n",
    "            else:\n",
    "                total = float(number) + total\n",
    "            count += 1\n",
    "            continue\n",
    "        except:\n",
    "            print(\"Please enter a valid number.\")\n",
    "    "
   ]
  },
  {
   "cell_type": "code",
   "execution_count": null,
   "metadata": {},
   "outputs": [],
   "source": [
    "#Exercise 6.5\n",
    "str = 'X-DSPAM-Confidence:0.8475'\n",
    "beginning =  str.find(\":\")\n",
    "number = str[beginning+1:]\n",
    "print(number)"
   ]
  },
  {
   "cell_type": "code",
   "execution_count": null,
   "metadata": {},
   "outputs": [],
   "source": [
    "# Exercise 8.6 \n",
    "my_list =[]\n",
    "while True: \n",
    "    number = input(\">\")\n",
    "    if number == \"done\":\n",
    "        try:\n",
    "            print(min(my_list))\n",
    "            print(max(my_list))\n",
    "            break\n",
    "        except:\n",
    "            print(\"Your set is still empty.\")\n",
    "            \n",
    "    else:\n",
    "        try:\n",
    "            my_list.append(float(number))\n",
    "            continue\n",
    "        except:\n",
    "            print(\"Please enter a valid number.\")"
   ]
  },
  {
   "cell_type": "markdown",
   "metadata": {},
   "source": [
    "# Scrabble Section"
   ]
  },
  {
   "cell_type": "code",
   "execution_count": null,
   "metadata": {},
   "outputs": [],
   "source": [
    "import scrabble\n",
    "from scrabble import wordlist, scores\n",
    "\n",
    "for word in scrabble.wordlist:\n",
    "    if len(word) >= 9 and word[0] == \"a\":\n",
    "        print(word)"
   ]
  },
  {
   "cell_type": "code",
   "execution_count": null,
   "metadata": {},
   "outputs": [],
   "source": [
    "x = \"q\"\n",
    "for word in scrabble.wordlist:\n",
    "    if word[0] == \"q\" and len(word) > len(x):\n",
    "        x = word\n",
    "print(x)"
   ]
  },
  {
   "cell_type": "code",
   "execution_count": null,
   "metadata": {},
   "outputs": [],
   "source": [
    "for word in scrabble.wordlist:\n",
    "    if word[-3:] == \"nge\":\n",
    "        print(word)"
   ]
  },
  {
   "cell_type": "code",
   "execution_count": null,
   "metadata": {},
   "outputs": [],
   "source": [
    "for letter in \"abcdefghijklmnoprstuvwxyz\":\n",
    "    for word in scrabble.wordlist:\n",
    "        if \"a\" + letter + \"ey\" in word:\n",
    "            print(word)\n",
    "            break"
   ]
  },
  {
   "cell_type": "code",
   "execution_count": null,
   "metadata": {},
   "outputs": [],
   "source": [
    "for letter in \"abcdefghijklmnoprstuvwxyz\":\n",
    "    for word in scrabble.wordlist:\n",
    "        if \"a\" + letter + \"ey\" in word:\n",
    "            print(word)\n",
    "            "
   ]
  },
  {
   "cell_type": "code",
   "execution_count": null,
   "metadata": {},
   "outputs": [],
   "source": [
    "new_list = []\n",
    "for letter in \"abcdefghijklmnoprstuvwxyz\":\n",
    "    for word in scrabble.wordlist:\n",
    "        if \"a\" + letter + \"ey\" in word:\n",
    "            new_list.append(word)\n",
    "print(new_list[::2])\n",
    "            "
   ]
  },
  {
   "cell_type": "code",
   "execution_count": null,
   "metadata": {},
   "outputs": [],
   "source": [
    "all_vowel_words = []\n",
    "vowels = [\"a\", \"e\", \"i\", \"o\", \"u\"]\n",
    "for word in scrabble.wordlist:\n",
    "    all_vowels = True\n",
    "    for vowel in vowels:\n",
    "        if vowel not in word:\n",
    "            all_vowels = False\n",
    "            \n",
    "    if all_vowels:\n",
    "        if word.index('a') < word.index('e') < word.index('i') < word.index('o') < word.index('u'):\n",
    "            print(word)"
   ]
  }
 ],
 "metadata": {
  "kernelspec": {
   "display_name": "Python 3",
   "language": "python",
   "name": "python3"
  },
  "language_info": {
   "codemirror_mode": {
    "name": "ipython",
    "version": 3
   },
   "file_extension": ".py",
   "mimetype": "text/x-python",
   "name": "python",
   "nbconvert_exporter": "python",
   "pygments_lexer": "ipython3",
   "version": "3.7.4"
  }
 },
 "nbformat": 4,
 "nbformat_minor": 2
}
