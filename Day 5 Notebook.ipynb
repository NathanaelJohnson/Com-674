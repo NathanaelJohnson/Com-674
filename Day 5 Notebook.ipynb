{
 "cells": [
  {
   "cell_type": "code",
   "execution_count": null,
   "metadata": {},
   "outputs": [],
   "source": [
    "# Exercise 9.2\n",
    "file = open('./day4_exercise.txt', 'r')\n",
    "my_dict = {}\n",
    "for line in file:\n",
    "    if line.startswith(\"From \"):\n",
    "        word = line.split()[2]\n",
    "        if word not in my_dict: \n",
    "            my_dict[word] = 1\n",
    "        else:\n",
    "            my_dict[word] += 1\n",
    "print(my_dict)"
   ]
  },
  {
   "cell_type": "code",
   "execution_count": null,
   "metadata": {},
   "outputs": [],
   "source": [
    "# Exercise 9.3\n",
    "file = open('./day4_exercise.txt', 'r')\n",
    "my_dict = {}\n",
    "for line in file:\n",
    "    if line.startswith(\"From \"):\n",
    "        word = line.split()[1]\n",
    "        if word not in my_dict: \n",
    "            my_dict[word] = 1\n",
    "        else:\n",
    "            my_dict[word] += 1\n",
    "print(my_dict)"
   ]
  },
  {
   "cell_type": "code",
   "execution_count": 5,
   "metadata": {},
   "outputs": [
    {
     "name": "stdout",
     "output_type": "stream",
     "text": [
      "5\n"
     ]
    }
   ],
   "source": [
    "# Exercise 9.4\n",
    "file = open('./day4_exercise.txt', 'r')\n",
    "my_dict = {}\n",
    "for line in file:\n",
    "    if line.startswith(\"From \"):\n",
    "        word = line.split()[1]\n",
    "        if word not in my_dict: \n",
    "            my_dict[word] = 1\n",
    "        else:\n",
    "            my_dict[word] += 1\n",
    "print(max(my_dict.values()))\n",
    "\n"
   ]
  },
  {
   "cell_type": "code",
   "execution_count": 4,
   "metadata": {},
   "outputs": [
    {
     "name": "stdout",
     "output_type": "stream",
     "text": [
      "{'uct.ac.za': 6, 'media.berkeley.edu': 4, 'umich.edu': 7, 'iupui.edu': 8, 'caret.cam.ac.uk': 1, 'gmail.com': 1}\n"
     ]
    }
   ],
   "source": [
    "# Exercise 9.5\n",
    "file = open('./day4_exercise.txt', 'r')\n",
    "my_dict = {}\n",
    "for line in file:\n",
    "    if line.startswith(\"From \"):\n",
    "        line = line.strip()\n",
    "        at_symbol = line.find('@')\n",
    "        word_end = line.find(\" \", at_symbol)\n",
    "        word = line[at_symbol + 1: word_end]\n",
    "        if word not in my_dict: \n",
    "            my_dict[word] = 1\n",
    "        else:\n",
    "            my_dict[word] += 1\n",
    "print(my_dict)\n"
   ]
  },
  {
   "cell_type": "code",
   "execution_count": 8,
   "metadata": {},
   "outputs": [
    {
     "name": "stdout",
     "output_type": "stream",
     "text": [
      "(5, 'cwen@iupui.edu')\n"
     ]
    }
   ],
   "source": [
    "# Exercise 10.1\n",
    "file = open('./day4_exercise.txt', 'r')\n",
    "my_dict = {}\n",
    "for line in file:\n",
    "    if line.startswith(\"From \"):\n",
    "        word = line.split()[1]\n",
    "        if word not in my_dict: \n",
    "            my_dict[word] = 1\n",
    "        else:\n",
    "            my_dict[word] += 1\n",
    "\n",
    "my_list = []\n",
    "for key, val in list(my_dict.items()):\n",
    "    my_list.append((val, key))\n",
    "\n",
    "my_list.sort(reverse = True)\n",
    "\n",
    "for key, val in my_list[:1]:\n",
    "    print(my_list[0])\n"
   ]
  },
  {
   "cell_type": "code",
   "execution_count": 10,
   "metadata": {},
   "outputs": [
    {
     "name": "stdout",
     "output_type": "stream",
     "text": [
      "Enter a file name: './day4_exercise.txt'\n"
     ]
    },
    {
     "ename": "FileNotFoundError",
     "evalue": "[Errno 2] No such file or directory: \"'./day4_exercise.txt'\"",
     "output_type": "error",
     "traceback": [
      "\u001b[1;31m---------------------------------------------------------------------------\u001b[0m",
      "\u001b[1;31mFileNotFoundError\u001b[0m                         Traceback (most recent call last)",
      "\u001b[1;32m<ipython-input-10-2eddd3655071>\u001b[0m in \u001b[0;36m<module>\u001b[1;34m\u001b[0m\n\u001b[0;32m      1\u001b[0m \u001b[1;31m# Exercise 10.2\u001b[0m\u001b[1;33m\u001b[0m\u001b[1;33m\u001b[0m\u001b[1;33m\u001b[0m\u001b[0m\n\u001b[0;32m      2\u001b[0m \u001b[0mentry\u001b[0m \u001b[1;33m=\u001b[0m \u001b[0minput\u001b[0m\u001b[1;33m(\u001b[0m\u001b[1;34m'Enter a file name: '\u001b[0m\u001b[1;33m)\u001b[0m\u001b[1;33m\u001b[0m\u001b[1;33m\u001b[0m\u001b[0m\n\u001b[1;32m----> 3\u001b[1;33m \u001b[0mfile\u001b[0m \u001b[1;33m=\u001b[0m \u001b[0mopen\u001b[0m\u001b[1;33m(\u001b[0m\u001b[0mentry\u001b[0m\u001b[1;33m)\u001b[0m\u001b[1;33m\u001b[0m\u001b[1;33m\u001b[0m\u001b[0m\n\u001b[0m\u001b[0;32m      4\u001b[0m \u001b[0mmy_dict\u001b[0m \u001b[1;33m=\u001b[0m \u001b[1;33m{\u001b[0m\u001b[1;33m}\u001b[0m\u001b[1;33m\u001b[0m\u001b[1;33m\u001b[0m\u001b[0m\n\u001b[0;32m      5\u001b[0m \u001b[1;32mfor\u001b[0m \u001b[0mline\u001b[0m \u001b[1;32min\u001b[0m \u001b[0mfile\u001b[0m\u001b[1;33m:\u001b[0m\u001b[1;33m\u001b[0m\u001b[1;33m\u001b[0m\u001b[0m\n",
      "\u001b[1;31mFileNotFoundError\u001b[0m: [Errno 2] No such file or directory: \"'./day4_exercise.txt'\""
     ]
    }
   ],
   "source": [
    "# Exercise 10.2\n",
    "entry = input('Enter a file name: ')\n",
    "file = open(entry)\n",
    "my_dict = {}\n",
    "for line in file:\n",
    "    if line.startswith(\"From \"):\n",
    "        word = line.split()[5]\n",
    "        colon = word.find(\":\")\n",
    "        hour = word[0:colon]\n",
    "        if hour not in my_dict: \n",
    "            my_dict[hour] = 1\n",
    "        else:\n",
    "            my_dict[hour] += 1\n",
    "            \n",
    "my_list = []\n",
    "for key, val in list(my_dict.items()):\n",
    "    my_list.append((key, val))\n",
    "my_list.sort()\n",
    "\n",
    "for piece in my_list:\n",
    "    print(piece)"
   ]
  },
  {
   "cell_type": "markdown",
   "metadata": {},
   "source": [
    "## Baby name exercises"
   ]
  },
  {
   "cell_type": "code",
   "execution_count": null,
   "metadata": {},
   "outputs": [],
   "source": [
    "for name in boys.keys():\n",
    "    if 'nathanael' == name:\n",
    "        print(name + \" \" + str(boys[name]))\n",
    "            \n",
    "for name in girls.keys():\n",
    "    if 'nathanael' == name:\n",
    "        print(name + \" \" + str(boys[name]))"
   ]
  },
  {
   "cell_type": "code",
   "execution_count": null,
   "metadata": {},
   "outputs": [],
   "source": [
    "boy_names = 0\n",
    "girl_names = 0\n",
    "for boy in boys.keys():\n",
    "    boy_names += 1\n",
    "for girl in girls.keys():\n",
    "    girl_names += 1\n",
    "    \n",
    "print(\"Boy names: \", boy_names, \"\\nGirl names: \", girl_names)\n",
    "\n",
    "boy_dict = {}\n",
    "for letter in \"abcdefghijklmnopqrstuvwxyz\":\n",
    "    name_per_letter = 0\n",
    "    for boy in boys.keys():    \n",
    "        if boy.startswith(letter):\n",
    "            if letter not in boy_dict:\n",
    "                boy_dict[letter] = 1\n",
    "            else:\n",
    "                boy_dict[letter] += 1\n",
    "\n",
    "print(\"boy names by letter: \", boy_dict)\n",
    "            \n",
    "girl_dict = {}\n",
    "for letter in \"abcdefghijklmnopqrstuvwxyz\":\n",
    "    name_per_letter = 0\n",
    "    for girl in girls.keys():    \n",
    "        if girl.startswith(letter):\n",
    "            if letter not in girl_dict:\n",
    "                girl_dict[letter] = 1\n",
    "            else:\n",
    "                girl_dict[letter] += 1\n",
    "print(\"girl names by letter: \", girl_dict)\n"
   ]
  },
  {
   "cell_type": "code",
   "execution_count": null,
   "metadata": {},
   "outputs": [],
   "source": [
    "least_common = 0\n",
    "for key, val in total.items():\n",
    "    if least_common == 0 or least_common > val:\n",
    "        least_common = val\n",
    "        word = key\n",
    "print(word, least_common)"
   ]
  },
  {
   "cell_type": "code",
   "execution_count": null,
   "metadata": {},
   "outputs": [],
   "source": [
    "most_common = 0\n",
    "for key, val in total.items():\n",
    "    if most_common == 0 or most_common < val:\n",
    "        most_common = val\n",
    "        word = key\n",
    "print(word, least_common)"
   ]
  },
  {
   "cell_type": "code",
   "execution_count": null,
   "metadata": {},
   "outputs": [],
   "source": [
    "all_of_em = 0\n",
    "for k, v in total.items():\n",
    "    all_of_em += int(v)\n",
    "print(all_of_em)"
   ]
  },
  {
   "cell_type": "code",
   "execution_count": null,
   "metadata": {},
   "outputs": [],
   "source": [
    "count = 0\n",
    "for name in boys:\n",
    "    if name in girls:\n",
    "        count += 1\n",
    "print(count)\n",
    "        "
   ]
  },
  {
   "cell_type": "code",
   "execution_count": null,
   "metadata": {},
   "outputs": [],
   "source": [
    "this_list = []\n",
    "count = 0\n",
    "for name1 in total:\n",
    "    for name2 in total:\n",
    "        if name1 in name2 and name1 != name2:\n",
    "            if name1 not in this_list:\n",
    "                this_list.append(name1)\n",
    "                count += 1\n",
    "print(count)"
   ]
  },
  {
   "cell_type": "code",
   "execution_count": null,
   "metadata": {},
   "outputs": [],
   "source": [
    "most_common = 0\n",
    "for key, val in girls.items():\n",
    "    if most_common == 0 or most_common < val:\n",
    "        if key in boys:\n",
    "            most_common = val\n",
    "            word = key\n",
    "print(word, most_common)"
   ]
  },
  {
   "cell_type": "code",
   "execution_count": null,
   "metadata": {},
   "outputs": [],
   "source": [
    "prefix = input(\"Enter a prefix: \")\n",
    "for name in boys:\n",
    "    if name.startswith(prefix):\n",
    "        print(\"Boy name: \", name)\n",
    "for name in girls:\n",
    "    if name.startswith(prefix):\n",
    "        print(\"Girl name: \", name)"
   ]
  }
 ],
 "metadata": {
  "kernelspec": {
   "display_name": "Python 3",
   "language": "python",
   "name": "python3"
  },
  "language_info": {
   "codemirror_mode": {
    "name": "ipython",
    "version": 3
   },
   "file_extension": ".py",
   "mimetype": "text/x-python",
   "name": "python",
   "nbconvert_exporter": "python",
   "pygments_lexer": "ipython3",
   "version": "3.7.4"
  }
 },
 "nbformat": 4,
 "nbformat_minor": 2
}
