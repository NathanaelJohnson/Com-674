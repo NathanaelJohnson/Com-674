{
 "cells": [
  {
   "cell_type": "code",
   "execution_count": null,
   "metadata": {},
   "outputs": [],
   "source": [
    "import tweepy\n",
    "from IPython.display import display, Image  # This line lets you display images. We'll use that in a bit.\n",
    "import requests\n",
    "import json\n",
    "from twitter_authentication import CONSUMER_KEY, CONSUMER_SECRET, ACCESS_TOKEN, ACCESS_TOKEN_SECRET\n",
    "\n",
    "auth = tweepy.OAuthHandler(CONSUMER_KEY, CONSUMER_SECRET)\n",
    "auth.set_access_token(ACCESS_TOKEN, ACCESS_TOKEN_SECRET)\n",
    "\n",
    "api = tweepy.API(auth, wait_on_rate_limit=True)\n",
    "\n",
    "# Exercise 1\n",
    "# Write a function that takes in the width and height and prints an image\n",
    "def Display_image(width, height):\n",
    "    page = requests.get('http://placekitten.com/' + width + \"/\" + height)\n",
    "    display(Image(page.content))"
   ]
  },
  {
   "cell_type": "code",
   "execution_count": null,
   "metadata": {},
   "outputs": [],
   "source": [
    "# Exercise 2\n",
    "# Can you write a loop to show several images?\n",
    "limit = 0\n",
    "while limit < 3:\n",
    "    Display_image(input(\"enter a width> \"), input(\"enter a height> \"))\n",
    "    limit += 1\n",
    "if limit == 3:\n",
    "    print(\"That's all she wrote!\")"
   ]
  },
  {
   "cell_type": "code",
   "execution_count": null,
   "metadata": {},
   "outputs": [],
   "source": [
    "# Exercise 3\n",
    "#Use the .json() function to get the response converted to a dictionary or list\n",
    "time = requests.get(\"http://worldtimeapi.org/api/timezone/America/Indiana/Indianapolis\")\n",
    "print(time.content)"
   ]
  },
  {
   "cell_type": "code",
   "execution_count": null,
   "metadata": {},
   "outputs": [],
   "source": [
    "# Exercise 4\n",
    "# Get the time for your time zone\n",
    "time = requests.get(\"http://worldtimeapi.org/api/timezone/America/Indiana/Indianapolis\")\n",
    "time.json()['datetime']"
   ]
  },
  {
   "cell_type": "code",
   "execution_count": null,
   "metadata": {},
   "outputs": [],
   "source": [
    "# Exercise 5\n",
    "# Get the time for your IP address\n",
    "time = requests.get(\"http://worldtimeapi.org/api/ip\")\n",
    "time.json()['datetime']"
   ]
  },
  {
   "cell_type": "code",
   "execution_count": null,
   "metadata": {},
   "outputs": [],
   "source": [
    "# Exercise 6\n",
    "endpt = 'https://en.wikipedia.org/w/api.php'\n",
    "\n",
    "def get_last_pages_changed(n):\n",
    "    params = {'action': 'query',\n",
    "          'format': 'json',\n",
    "          'list': 'recentchanges',\n",
    "          'rcnamespace': '0',\n",
    "          'rclimit': n}\n",
    "    r = requests.get(endpt, params)\n",
    "    print(r.json())\n",
    "    return [r['title'] for r in r.json()['query']['recentchanges']]\n",
    "get_last_pages_changed(5)"
   ]
  },
  {
   "cell_type": "code",
   "execution_count": null,
   "metadata": {},
   "outputs": [],
   "source": [
    "# Exercise 7 Use the streaming API to produce a list of 1000 tweets about a topic.\n",
    "alexa_list = []\n",
    "for tweet in tweepy.Cursor(api.search, 'alexa').items(2):\n",
    "    alexa_list.append(tweet.created_at)\n",
    "    "
   ]
  },
  {
   "cell_type": "code",
   "execution_count": null,
   "metadata": {},
   "outputs": [],
   "source": [
    "# Exercise 8 From that list of 1000 tweets, eliminate retweets.\n",
    "original_tweets = []\n",
    "for tweet in tweepy.Cursor(api.search, 'alexa').items(1000):\n",
    "    if 'retweeted_status' in tweet._json:\n",
    "        continue\n",
    "    else:\n",
    "        print(tweet.text, '\\n')       \n",
    "        "
   ]
  },
  {
   "cell_type": "code",
   "execution_count": null,
   "metadata": {},
   "outputs": [],
   "source": [
    "# Exercise 9 For each original tweet, create a dictionary with the number of times you see it retweeted in your dataset.\n",
    "alexa_retweets = {}\n",
    "for tweet in tweepy.Cursor(api.search, 'alexa').items(1000):\n",
    "    if 'retweeted_status' in tweet._json:\n",
    "        new_tweet = tweet.retweeted_status\n",
    "        if new_tweet.id not in alexa_retweets:\n",
    "            alexa_retweets[tweet.text] = 1\n",
    "        else:\n",
    "            alexa_retweets[tweet.text] += 1\n",
    "            "
   ]
  },
  {
   "cell_type": "code",
   "execution_count": null,
   "metadata": {},
   "outputs": [],
   "source": [
    "with open('alexa_data.json', 'w') as f:\n",
    "    json.dump(alexa_list, f)"
   ]
  },
  {
   "cell_type": "code",
   "execution_count": null,
   "metadata": {},
   "outputs": [],
   "source": [
    "# Exercise 10 Get a list of the URLs in your dataset\n",
    "for tweet in tweepy.Cursor(api.search, 'alexa').items(100):\n",
    "    urls = tweet.entities['urls']\n",
    "    for url in urls:\n",
    "        print(url['expanded_url'])\n",
    "\n",
    "    "
   ]
  },
  {
   "cell_type": "code",
   "execution_count": null,
   "metadata": {},
   "outputs": [],
   "source": [
    "# Exercise 11 Now, see if you can figure out how to eliminate retweets in the query instead.\n",
    "alexa_list = []\n",
    "for tweet in tweepy.Cursor(api.search, 'alexa -filter:retweets').items(10):\n",
    "    alexa_list.append(tweet.text)\n",
    "alexa_list\n",
    "            \n"
   ]
  },
  {
   "cell_type": "code",
   "execution_count": null,
   "metadata": {},
   "outputs": [],
   "source": [
    "# Exercise 12 Get the last 50 tweets from West Lafayette, using the search API.\n",
    "for tweet in tweepy.Cursor(api.search, 'geocode:40.425869,-86.908066,100km').items(50):\n",
    "    print(\"This tweet was made at\", tweet.created_at, '\\n', tweet.text, '\\n')\n"
   ]
  },
  {
   "cell_type": "code",
   "execution_count": null,
   "metadata": {},
   "outputs": [],
   "source": [
    "# Exercise 13 Alter the streaming algorithm to include a \"locations\" filter to get tweets from New York City. You need to use the order sw_lng, sw_lat, ne_lng, ne_lat for the four coordinates instead of a radius as in the search API.\n",
    "class StreamListener(tweepy.StreamListener):\n",
    "    def on_status(self, tweet):\n",
    "        print(tweet.author.screen_name + \"\\t\" + str(tweet.text) + \"\\n\")\n",
    "        \n",
    "    def on_error(self, status_code):\n",
    "        print( 'Error: ' + repr(status_code))\n",
    "        return False\n",
    "\n",
    "l = StreamListener()\n",
    "streamer = tweepy.Stream(auth=auth, listener=l, tweet_mode='extended')\n",
    "\n",
    "keywords = ['Apple', 'apple']\n",
    "streamer.filter(locations = [-87,40,-86,41])\n"
   ]
  },
  {
   "cell_type": "code",
   "execution_count": null,
   "metadata": {},
   "outputs": [],
   "source": [
    "# Bonus Exercise 1\n",
    "follower_list = []\n",
    "follower_of_followers = []\n",
    "user = api.get_user('Nathananael_J')\n",
    "\n",
    "for follower in user.followers(count=20):\n",
    "    follower_list.append(follower.screen_name)\n",
    "    \n",
    "for name in follower_list:\n",
    "    followers_of_friends = api.get_user(name)\n",
    "    for follower in followers_of_friends.followers(count=10):\n",
    "        follower_of_followers.append(follower.screen_name)\n",
    "print(follower_of_followers)"
   ]
  },
  {
   "cell_type": "code",
   "execution_count": null,
   "metadata": {},
   "outputs": [],
   "source": [
    "# Bonus Exercise 3\n",
    "follower_list = []\n",
    "follower_but_not_follower_of_follower = []\n",
    "user = api.get_user('Nathananael_J')\n",
    "\n",
    "for follower in user.followers(count=2):\n",
    "    follower_list.append(follower.screen_name)\n",
    "    \n",
    "for name in follower_list:\n",
    "    followers_of_friends = api.get_user(name)\n",
    "    for my_follower in followers_of_friends.followers(count=2):\n",
    "        if my_follower not in follower_but_not_follower_of_followers:\n",
    "            follower_but_not_follower_of_followers.append(my_follower.screen_name)\n",
    "print(follower_but_not_follower_of_followers)"
   ]
  }
 ],
 "metadata": {
  "kernelspec": {
   "display_name": "Python 3",
   "language": "python",
   "name": "python3"
  },
  "language_info": {
   "codemirror_mode": {
    "name": "ipython",
    "version": 3
   },
   "file_extension": ".py",
   "mimetype": "text/x-python",
   "name": "python",
   "nbconvert_exporter": "python",
   "pygments_lexer": "ipython3",
   "version": "3.7.4"
  }
 },
 "nbformat": 4,
 "nbformat_minor": 2
}
